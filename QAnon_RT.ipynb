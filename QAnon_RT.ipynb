{
 "cells": [
  {
   "cell_type": "code",
   "execution_count": 1,
   "metadata": {},
   "outputs": [
    {
     "name": "stderr",
     "output_type": "stream",
     "text": [
      "Since the GPL-licensed package `unidecode` is not installed, using Python's `unicodedata` package which yields worse results.\n",
      "/opt/anaconda3/lib/python3.7/importlib/_bootstrap.py:219: RuntimeWarning: greenlet.greenlet size changed, may indicate binary incompatibility. Expected 144 from C header, got 152 from PyObject\n",
      "  return f(*args, **kwds)\n",
      "/opt/anaconda3/lib/python3.7/importlib/_bootstrap.py:219: RuntimeWarning: greenlet.greenlet size changed, may indicate binary incompatibility. Expected 144 from C header, got 152 from PyObject\n",
      "  return f(*args, **kwds)\n",
      "/opt/anaconda3/lib/python3.7/importlib/_bootstrap.py:219: RuntimeWarning: greenlet.greenlet size changed, may indicate binary incompatibility. Expected 144 from C header, got 152 from PyObject\n",
      "  return f(*args, **kwds)\n",
      "/opt/anaconda3/lib/python3.7/importlib/_bootstrap.py:219: RuntimeWarning: greenlet.greenlet size changed, may indicate binary incompatibility. Expected 144 from C header, got 152 from PyObject\n",
      "  return f(*args, **kwds)\n"
     ]
    }
   ],
   "source": [
    "#!/usr/bin/env python\n",
    "# encoding: utf-8\n",
    "#from scipy.spatial.distance import cdist\n",
    "from nltk import bigrams\n",
    "import networkx as nx\n",
    "#similarity score concat before fc1 \n",
    "import tldextract\n",
    "from itertools import combinations\n",
    "from shutil import which\n",
    "import torch.nn.functional as F\n",
    "from statistics import mean\n",
    "\n",
    "\n",
    "from gensim.models import KeyedVectors\n",
    "from cleantext import clean\n",
    "from tqdm import tqdm\n",
    "from nltk.tokenize import TweetTokenizer\n",
    "import preprocessor as p \n",
    "import numpy as np\n",
    "\n",
    "import torch\n",
    "from torch.utils.data import DataLoader, RandomSampler, SequentialSampler\n",
    "from transformers import LongformerModel, LongformerTokenizer, LongformerConfig\n",
    "from tqdm import tqdm\n",
    "tqdm.pandas(desc=\"my bar!\")\n",
    "import pandas as pd \n",
    "import numpy as np \n",
    "from collections import defaultdict\n",
    "from sklearn.model_selection import train_test_split\n",
    "import matplotlib.pyplot as plt\n",
    "import time\n",
    "#import wandb\n",
    "#import numpy as np\n",
    "from pprint import pprint\n",
    "\n",
    "\n",
    "from nltk.corpus import stopwords\n",
    "import preprocessor as p  #pip install tweet-preprocessor\n",
    "import logging  # Setting up the loggings to monitor gensim\n",
    "from nltk.stem import WordNetLemmatizer\n",
    "from string import punctuation as punc\n",
    "\n",
    "import gensim\n",
    "import gensim.corpora as corpora\n",
    "#from gensim.utils import simple_preprocess\n",
    "import gensim.models as gsm\n",
    "\n",
    "\n",
    "\n",
    "import emoji #pip install emoji --upgrade\n",
    "# Internal dependencies\n",
    "\n",
    "\n",
    "import torch\n",
    "import torch.nn as nn\n",
    "import torch.nn.functional as F\n",
    "import torch.optim as optim\n",
    "import torch.autograd as autograd\n",
    "import torchvision.transforms as transforms\n",
    "from torch.autograd import Variable\n",
    "\n",
    "import os\n",
    "import torch.multiprocessing as mp\n",
    "import torchvision.transforms as transforms\n",
    "\n",
    "\n",
    "#os.environ['CUDA_VISIBLE_DEVICES'] = '1, 2, 3' \n",
    "#....to install apex...\n",
    "#pip install -v --no-cache-dir ./\n",
    "\n",
    "#!/usr/bin/env python\n",
    "# encoding: utf-8\n",
    "import time\n",
    "import torch.optim as optim\n",
    "from torch.utils.data import TensorDataset, random_split\n",
    "from torch.utils.data import DataLoader, RandomSampler, SequentialSampler\n",
    "#from torchnlp.nn import Attention #pip imstall pytorch-nlp\n",
    "\n",
    "from gensim.models import KeyedVectors\n",
    "#from fastnode2vec import Graph, Node2Vec\n",
    "import pandas as pd\n",
    "import networkx as nx\n",
    "import os\n",
    "\n",
    "from torch.utils.data import TensorDataset, random_split\n",
    "from cleantext import clean\n",
    "from tqdm import tqdm\n",
    "from nltk.tokenize import TweetTokenizer\n",
    "import preprocessor as p \n",
    "import numpy as np\n",
    "from sklearn.model_selection import train_test_split\n",
    "import torch\n",
    "from torch.utils.data import DataLoader, RandomSampler, SequentialSampler\n",
    "from transformers import LongformerModel, LongformerTokenizer, LongformerConfig\n",
    "from tqdm import tqdm\n",
    "tqdm.pandas(desc=\"my bar!\")\n",
    "import pandas as pd \n",
    "import numpy as np \n",
    "from collections import defaultdict\n",
    "\n",
    "from sklearn.model_selection import train_test_split\n",
    "import datetime\n",
    "import matplotlib.pyplot as plt\n",
    "import time\n",
    "#import numpy as np\n",
    "from pprint import pprint\n",
    "\n",
    "from nltk.corpus import stopwords\n",
    "import preprocessor as p  #pip install tweet-preprocessor\n",
    "import logging  # Setting up the loggings to monitor gensim\n",
    "from nltk.stem import WordNetLemmatizer\n",
    "from string import punctuation as punc\n",
    "\n",
    "import gensim\n",
    "import gensim.corpora as corpora\n",
    "#from gensim.utils import simple_preprocess\n",
    "from gensim.models import CoherenceModel\n",
    "import gensim.models as gsm\n",
    "from gensim.test.utils import datapath\n",
    "\n",
    "import regex \n",
    "#pip install emoji --upgrade\n",
    "# Internal dependencies\n",
    "\n",
    "\n",
    "\n",
    "import torch\n",
    "import torch.nn as nn\n",
    "import torch.nn.functional as F\n",
    "import torch.optim as optim\n",
    "import torch.autograd as autograd\n",
    "import torchvision.transforms as transforms\n",
    "from torch.autograd import Variable\n",
    "\n",
    "import os\n",
    "import torch.multiprocessing as mp\n",
    "import torchvision.transforms as transforms\n",
    "import torch.distributed as dist\n",
    "\n",
    "from urllib.parse import urlparse\n",
    "import tldextract"
   ]
  },
  {
   "cell_type": "code",
   "execution_count": 4,
   "metadata": {},
   "outputs": [
    {
     "name": "stdout",
     "output_type": "stream",
     "text": [
      "Training\n",
      "Device: cpu\n"
     ]
    }
   ],
   "source": [
    "#os.environ['CUDA_VISIBLE_DEVICES'] = '1, 2, 3' \n",
    "#....to install apex...\n",
    "#pip install -v --no-cache-dir ./\n",
    "from nltk import bigrams\n",
    "import networkx as nx\n",
    "def extract_domain(x):\n",
    "    '''\n",
    "    e.g. x='http://www.bbc.co.uk'\n",
    "    '''\n",
    "    ext = tldextract.extract(x)\n",
    "    return ext.registered_domain\n",
    "\n",
    "def retrieveRTMT(_df,n2vRT):\n",
    "    '''\n",
    "    #_names: nodes' name in RT or MT network\n",
    "    '''\n",
    "    \n",
    "    dfRT=pd.DataFrame(n2vRT.vectors,index=n2vRT.index_to_key)\n",
    "    #dfMT=pd.DataFrame(n2vMT.wv.vectors,index=n2vMT.wv.index2entity)\n",
    "    RT=dfRT[dfRT.index.isin(_df['user_screen_name'])].values\n",
    "    #MT=dfMT[dfMT.index.isin(_df['user_screen_name'])].values\n",
    "    \n",
    "    \n",
    "    #RT=torch.tensor(RT)\n",
    "    #MT=torch.tensor(MT)\n",
    "    return RT#, MT\n",
    "\n",
    "def prepro(ndf,col):\n",
    "    \n",
    "    import re\n",
    "    def remove_rt(query):\n",
    "        query=re.sub(r\"\\brt\", \"\", query)\n",
    "        return query\n",
    "    ndf[col]=ndf[col].progress_apply(lambda x: remove_rt(x))\n",
    "\n",
    "    def tokenizer(_text):\n",
    "        return TweetTokenizer().tokenize(_text)\n",
    "\n",
    "    ndf[col]=ndf[col].progress_apply(lambda x:tokenizer(x))\n",
    "\n",
    "    from nltk.corpus import stopwords\n",
    "    STOPWORDS=stopwords.words('english')\n",
    "    def remove_stop(_text):\n",
    "        return ' '.join([x for x in _text if x not in STOPWORDS])\n",
    "\n",
    "    ndf[col]=ndf[col].progress_apply(lambda x: remove_stop(x))\n",
    "    \n",
    "    def preprocessing(string): \n",
    "\n",
    "        text=clean(string,lower=True, no_emails=True,no_numbers=True,no_punct=True,no_digits=False,no_currency_symbols=True,\n",
    "                   replace_with_number=\"\",\n",
    "                   no_urls=True,replace_with_url=\"\",\n",
    "                   replace_with_email=\"\",\n",
    "                   replace_with_currency_symbol=\"\")\n",
    "\n",
    "        return text\n",
    "    ndf[col]=ndf[col].progress_apply(lambda x: preprocessing(x))\n",
    "    \n",
    "    def remove_emoji(string):\n",
    "        p.set_options(p.OPT.EMOJI, p.OPT.SMILEY)\n",
    "        \n",
    "        return p.clean(string)\n",
    "    ndf[col]=ndf[col].progress_apply(lambda x: remove_emoji(x))\n",
    "    \n",
    "    ndf.reset_index(inplace=True,drop=True)\n",
    "    return ndf\n",
    "\n",
    "torch.manual_seed(1)\n",
    "torch.cuda.manual_seed(1)\n",
    "torch.backends.cudnn.deterministic = True\n",
    "torch.backends.cudnn.enabled = False\n",
    "np.random.seed(1)\n",
    "\n",
    "\n",
    "def makefolder(save):\n",
    "    if  os.path.exists(save) == False:\n",
    "        os.makedirs(save)\n",
    "    else:\n",
    "        print('Floder:',save,'Exsit!')\n",
    "    return save\n",
    "def get_intersection(_df,_intersecion):\n",
    "    for each  in ['source','target']:\n",
    "\n",
    "        _df=_df[_df[each].isin(_intersecion)]\n",
    "    return _df\n",
    "\n",
    "def fast_node2vec(_df,_save,_file,saving_name,epochs):\n",
    "    '''\n",
    "    _df:retweetdf,mentiondf\n",
    "    _save:saving folder path\n",
    "    _file:csv name, e.g., vaccine, mask\n",
    "    saving_name: RT or MT\n",
    "    '''\n",
    "    \n",
    "    _tuples=_df.to_records(index=False)\n",
    "\n",
    "    _lst=list(_tuples)\n",
    "\n",
    "    _graph = Graph(_lst, directed=True, weighted=True)\n",
    "\n",
    "    _n2v = Node2Vec(_graph, dim=300, walk_length=100, context=10, p=2.0, q=0.5, workers=-1)\n",
    "    \n",
    "    _n2v.train(epochs=epochs)\n",
    "\n",
    "    _n2v.wv.save(_save+_file+'_'+saving_name+'.wv')\n",
    "    return _n2v\n",
    "\n",
    "def updatecol(df1,df2,colname,index):\n",
    "    df1[colname]=''\n",
    "\n",
    "    df1.set_index(index,inplace=True)\n",
    "\n",
    "    df2.set_index(index,inplace=True)\n",
    "\n",
    "    df1.update(df2)\n",
    "\n",
    "    df1.reset_index(inplace=True)\n",
    "    df2.reset_index(inplace=True)\n",
    "    return df1\n",
    "\n",
    "def updatecol_seperate(df1,df2,colname,index1,index2):\n",
    "    df1[colname]=''\n",
    "\n",
    "    df1.set_index(index1,inplace=True)\n",
    "\n",
    "    df2.set_index(index2,inplace=True)\n",
    "\n",
    "    df1.update(df2)\n",
    "\n",
    "    df1.reset_index(inplace=True)\n",
    "    df2.reset_index(inplace=True)\n",
    "    return df1\n",
    "\n",
    "\n",
    "\n",
    "def preproNetwork(_df,nettype,topn,Need,_name):\n",
    "    '''\n",
    "    target: 'retweeted_status_screen_name' or 'user_mentions_screen_names'\n",
    "    return topn indegree dataframe\n",
    "    _name: QAnon or Biden\n",
    "    '''\n",
    "    if nettype=='RT':\n",
    "        target= 'retweeted_status_screen_name' \n",
    "    elif nettype=='MT':\n",
    "        target= 'user_mentions_screen_names'\n",
    "        \n",
    "    file=_name\n",
    "    save='../Project2/'+file+'_data_processed/'\n",
    "    makefolder(save)\n",
    "        \n",
    "    #_df=_df.rename(columns={'user_screen_name':'users'})\n",
    "    _df=_df[['user_screen_name',target]]\n",
    "    _df.dropna(subset=[target],inplace=True)\n",
    "    _df[target]=_df[target].str.replace('\\'','')\n",
    "    _df[target]=_df[target].apply(lambda x: x.split(','))\n",
    "    _df=_df.explode([target])\n",
    "    _df=_df[['user_screen_name',target]]\n",
    "    #_df.columns=['source','target']\n",
    "    \n",
    "    \n",
    "    _df=_df.explode([target])\n",
    "    \n",
    "    G=nx.from_pandas_edgelist(_df,source='user_screen_name',target=target,create_using=nx.DiGraph())\n",
    "\n",
    "    nx.write_gexf(G, save+nettype+ '.gexf')\n",
    "    mdf=pd.DataFrame(G.in_degree)\n",
    "    mdf.columns=['Allusers','indegree']\n",
    "    kdf=mdf.sort_values('indegree',ascending=False).head(topn)\n",
    "    kdf.to_csv('../Project2/QAnon_data_processed/top'+str(topn)+nettype+'indegree.csv',index=None)\n",
    "    #print(_df.columns)\n",
    "    #print(kdf.columns)\n",
    "    ndf=updatecol_seperate(_df,kdf,'indegree','user_screen_name','Allusers')\n",
    "    ldf=ndf[ndf['indegree']!='']\n",
    "    ldf['indegree']=ldf['indegree'].astype(int)\n",
    "    ldf=ldf.sort_values('indegree',ascending=False)\n",
    "    \n",
    "    #produce node2vec\n",
    "    if Need==True:\n",
    "        __df=_df.groupby(['user_screen_name',target]).size().reset_index()\n",
    "        __df=__df.rename(columns={0:'weight'})\n",
    "        n2v=fast_node2vec(__df, save, file+'_'+nettype+'_weighted',nettype,500)\n",
    "    else:\n",
    "        n2v=None\n",
    "    return ldf, n2v\n",
    "\n",
    "def rank_indegree(_df1,_indegree,usertypes,rank):\n",
    "    _df1p=updatecol_seperate(_df1,_indegree,'indegree',usertypes[rank],'user_screen_name')\n",
    "    _df1p['indegree']=pd.to_numeric(_df1p['indegree'])\n",
    "    #df1p['indegree']=df1p['indegree'].astype(int)\n",
    "    _df1p=_df1p.sort_values('indegree',ascending=False).drop_duplicates(usertypes[rank])\n",
    "    #print(df1p.shape)\n",
    "    return _df1p\n",
    "\n",
    "\n",
    "def get_textdf(_df):\n",
    "    #_df=_df[['user_screen_name','text','news']]\n",
    "    #_df=_df.groupby(by='user_screen_name').agg(text=(\"text\", lambda x: \",\".join(set(x))))\n",
    "    #_df.reset_index(inplace=True)\n",
    "    \n",
    "    _t1=_df.groupby(by='user_screen_name').agg(text=(\"text\", lambda x: \",\".join(set(x))))\n",
    "\n",
    "    _t2=_df.groupby(by='user_screen_name').agg(news=(\"news\", lambda x: \",\".join(set(x))))\n",
    "    \n",
    "    _t1['news']=''\n",
    "    \n",
    "    _t1.update(_t2)\n",
    "    \n",
    "    _t1.reset_index(inplace=True)\n",
    "    return _t1\n",
    "\n",
    "class cos_feature:\n",
    "    def __init__(self, text, news):\n",
    "        self.long_roberta = long_roberta\n",
    "        self.text = text\n",
    "        self.news = news\n",
    "\n",
    "    def cos_similarity(self):\n",
    "\n",
    "        with torch.no_grad():\n",
    "            embedding = self.long_roberta(self.text)[0]\n",
    "        return embedding\n",
    "\n",
    "    def emb_similarity(self):\n",
    "\n",
    "        emb1 = self.cos_similarity(self.text)\n",
    "        emb2 = self.cos_similarity(self.news)\n",
    "        emb1 = emb1.cpu().detach().numpy()\n",
    "        emb2  = emb2.cpu().detach().numpy()\n",
    "        print('tweet:',emb1.shape)\n",
    "        print('news:', emb2.shape)\n",
    "        Y = cdist(emb1[0], emb2[0], 'cosine')[0][0]\n",
    "        cos_sim = 1.0 - Y\n",
    "        print('similarity:',cos_sim)\n",
    "        return cos_sim\n",
    "\n",
    "class ROBERTALSTMSentiment(nn.Module):\n",
    "        def __init__(self,\n",
    "                    long_roberta,\n",
    "                    hidden_dim,\n",
    "                    output_dim,\n",
    "                    n_layers,\n",
    "                    bidirectional,\n",
    "                    dropout):\n",
    "            \n",
    "            super().__init__()\n",
    "            \n",
    "            self.long_roberta = long_roberta\n",
    "            \n",
    "            embedding_dim = long_roberta.config.to_dict()['hidden_size'] #768\n",
    "                \n",
    "            self.rnn = nn.LSTM(embedding_dim,\n",
    "                            hidden_dim,\n",
    "                            num_layers = n_layers,\n",
    "                            bidirectional = bidirectional,\n",
    "                            batch_first = True,\n",
    "                            dropout = 0 if n_layers < 2 else dropout)\n",
    "            self.dropout = nn.Dropout(dropout)\n",
    "            self.attn_fc = Attention(hidden_dim * 2 if bidirectional else hidden_dim) #attention layer from torchnlp\n",
    "            self.out = nn.Linear(hidden_dim * 2 if bidirectional else hidden_dim, output_dim)\n",
    "\n",
    "\n",
    "        def forward(self, text):\n",
    "            with torch.no_grad():\n",
    "                embedded = self.long_roberta(text)[0]\n",
    "            lstm_out, (hidden, c_n) = self.rnn(embedded)\n",
    "\n",
    "            if self.rnn.bidirectional: #add dropout\n",
    "                hidden = self.dropout(torch.cat((hidden[-2,:,:], hidden[-1,:,:]), dim = 1))\n",
    "            else:\n",
    "                hidden = self.dropout(hidden[-1,:,:])\n",
    "  \n",
    "            attn_out = self.attn_fc(hidden.unsqueeze(1), lstm_out)\n",
    "           \n",
    "            return attn_out[0].squeeze(1)\n",
    "\n",
    "# Tokenize all of the sentences and map the tokens to thier word IDs.\n",
    "def token_id_twt(sentences):\n",
    "        input_ids = []\n",
    "        attention_masks = []\n",
    "\n",
    "        # For every sentence...\n",
    "        for sent in sentences:\n",
    "            # `encode_plus` will:\n",
    "            #   (1) Tokenize the sentence.\n",
    "            #   (2) Prepend the `[CLS]` token to the start.\n",
    "            #   (3) Append the `[SEP]` token to the end.\n",
    "            #   (4) Map tokens to their IDs.\n",
    "            #   (5) Pad or truncate the sentence to `max_length`\n",
    "            #   (6) Create attention masks for [PAD] tokens.\n",
    "            encoded_dict = longformer_tokenizer.encode_plus(\n",
    "                                sent,                      # Sentence to encode.\n",
    "                                add_special_tokens = True, # Add '[CLS]' and '[SEP]'\n",
    "                                max_length = 4000,           # Pad & truncate all sentences.\n",
    "                                pad_to_max_length = True,\n",
    "                                return_attention_mask = True,   # Construct attn. masks.\n",
    "                                truncation=True, #explicitely truncate examples to max length. #my add\n",
    "                                return_tensors = 'pt',     # Return pytorch tensors.\n",
    "                        )\n",
    "\n",
    "            # Add the encoded sentence to the list.    \n",
    "            input_ids.append(encoded_dict['input_ids'])\n",
    "            #print(type(input_ids[0]), input_ids[0], input_ids[0].size())\n",
    "            #sys.exit()\n",
    "\n",
    "            # And its attention mask (simply differentiates padding from non-padding).\n",
    "            attention_masks.append(encoded_dict['attention_mask'])\n",
    "\n",
    "        # Convert the lists into tensors.\n",
    "        input_ids = torch.cat(input_ids, dim=0)\n",
    "        attention_masks = torch.cat(attention_masks, dim=0)\n",
    "        #labels = torch.tensor(labels)\n",
    "\n",
    "    #     # Print sentence 0, now as a list of IDs.\n",
    "    #     print('Original: ', sentences_train[0])\n",
    "    #     print('Token IDs:', input_ids_train[0])\n",
    "        return input_ids, attention_masks\n",
    "\n",
    "class NetworkMLP(nn.Module):\n",
    "    def __init__(self):\n",
    "        super(NetworkMLP, self).__init__() \n",
    "        self.fc1 = nn.Linear(300, 150)\n",
    "            \n",
    "    def forward(self, X):\n",
    "        z1 = self.fc1(X)\n",
    "        return z1 \n",
    "\n",
    "class JointModel(nn.Module):\n",
    "    \n",
    "    def __init__(self,hidden_dim, output_dim, n_layers, bidirectional, dropout):\n",
    "        super().__init__()\n",
    "        self.model_net = NetworkMLP()\n",
    "        self.model_twt = ROBERTALSTMSentiment(long_roberta, HIDDEN_DIM, OUTPUT_DIM, N_LAYERS, BIDIRECTIONAL, DROPOUT)\n",
    "        self.fc1 = nn.Linear(600, 600)\n",
    "        self.fc2 = nn.Linear(600, output_dim) #original\n",
    "        self.dropout = nn.Dropout(dropout)\n",
    "\n",
    "\n",
    "    def forward(self, x_t): \n",
    "        prediction_twt = self.model_twt(x_t)\n",
    "        #prediction_twtNews = self.model_twt(x_tNews)\n",
    "       \n",
    "        #concat_pred = torch.cat((prediction_twt, prediction_twtNews), 1)\n",
    "        output = self.fc1(prediction_twt)\n",
    "        \n",
    "        output = self.dropout(output) # add dropout\n",
    "        output = self.fc2(F.relu(output)) #original\n",
    "        #output = self.dropout(output)#add dropout\n",
    "        #output = self.fc3(F.relu(output))\n",
    "        return output\n",
    "        \n",
    "def count_parameters(model):\n",
    "    return sum(p.numel() for p in model.parameters() if p.requires_grad)\n",
    "\n",
    "def binary_accuracy(preds, y):\n",
    "    \"\"\"\n",
    "    Returns accuracy per batch, i.e. if you get 8/10 right, this returns 0.8, NOT 8\n",
    "    \"\"\"\n",
    "\n",
    "    #round predictions to the closest integer\n",
    "    #rounded_preds = torch.round(torch.sigmoid(preds))\n",
    "    #rounded_preds = torch.round(preds)\n",
    "    correct = (preds == y).float() #convert into float for division \n",
    "    acc = correct.sum() / len(correct)\n",
    "    \n",
    "    from sklearn.metrics import f1_score\n",
    "    macro_f1 = f1_score(y.to(\"cpu\"), preds.to(\"cpu\"), average='macro')\n",
    "    #print(\"macro_f1\", macro_f1)\n",
    "\n",
    "    return acc, macro_f1\n",
    "\n",
    "\n",
    "def train(model, iterator, optimizer, criterion):\n",
    "    \n",
    "    epoch_loss = 0\n",
    "    epoch_acc = 0\n",
    "    epoch_macro = 0\n",
    "    model.train()\n",
    "    for step, batch in enumerate(iterator):    \n",
    "    #for batch in iterator:\n",
    "        #print(\"batch\", batch)\n",
    "        # `batch` contains three pytorch tensors:\n",
    "        #   [0]: input ids \n",
    "        #   [1]: attention masks\n",
    "        #   [2]: labels \n",
    "        #   b_input_ids = batch[0].to(device)\n",
    "        #   b_input_mask = batch[1].to(device)\n",
    "        #   b_labels = batch[2].to(device)\n",
    "\n",
    "        optimizer.zero_grad()\n",
    "        \n",
    "        #netRT = batch[0].to(device)\n",
    "        #netMT = batch[1].to(device)\n",
    "        #feature1=batch[0]\n",
    "        #print('feature1:',feature1)\n",
    "        #feature2=batch[1]\n",
    "        #cosine_score=emb_similarity(feature1, feature2)\n",
    "        #cosine_score_view=cosine_score.view(cosine_score.size()[0],1)\n",
    "\n",
    "        twt = batch[0].to(device)\n",
    "        #news= batch[1].to(device)\n",
    "\n",
    "        #print('text.size:',twt.size())\n",
    "        #print('news.size:',news.size())\n",
    "\n",
    "        #cosine_similarity=cosine_similarity.to(device)\n",
    "        label = batch[1].to(device)\n",
    "\n",
    "        #print(\"label\", label, type(label),label.size()) #torch.Size([32])\n",
    "        #label = label.unsqueeze(1)\n",
    "        #print(\"label\", label, type(label),label.size())\n",
    "        #predictions = model(batch.text).squeeze(1)\n",
    "        #predictions = model(text)\n",
    "        predictions = model(twt)#,cosine_similarity)\n",
    "\n",
    "        #cosine_score_view=cosine_score.view(cosine_score.size()[0],1)\n",
    "\n",
    "\n",
    "\n",
    "        #print('cosine_similarity.size:',cosine_score.size())\n",
    "        #predictions=torch.cat((predictions,cosine_score_view), dim = 1)\n",
    "        #print('predictions.size:',predictions.size())\n",
    "        loss = criterion(predictions, label)\n",
    "    \n",
    "        acc, macro_f1 = binary_accuracy(torch.argmax(predictions, dim = 1), label)\n",
    "\n",
    "        loss.backward()\n",
    "        optimizer.step()\n",
    "        \n",
    "        epoch_loss += loss.item()\n",
    "        epoch_acc += acc.item()\n",
    "        epoch_macro += macro_f1.item()\n",
    "    return epoch_loss / len(iterator), epoch_acc / len(iterator), epoch_macro / len(iterator)\n",
    "\n",
    "def evaluate(model, iterator, criterion):\n",
    "    epoch_loss = 0\n",
    "    epoch_acc = 0\n",
    "    epoch_macro = 0\n",
    "    model.eval()\n",
    "    \n",
    "    with torch.no_grad():\n",
    "    \n",
    "        #for batch in iterator:\n",
    "        for step, batch in enumerate(iterator):    \n",
    "            #des = batch[0].to(device)\n",
    "            #loc = batch[1].to(device)\n",
    "            #netRT = batch[0].to(device)\n",
    "            #netMT = batch[1].to(device)\n",
    "            twt = batch[0].to(device)\n",
    "            #news= batch[1].to(devifce)\n",
    "            label = batch[1].to(device)\n",
    "            #predictions = model(batch.text).squeeze(1)\n",
    "            predictions = model(twt)\n",
    "            #loss = criterion(predictions, batch.label)\n",
    "            loss = criterion(predictions, label)\n",
    "            #acc = binary_accuracy(predictions, batch.label)\n",
    "            acc, macro_f1 = binary_accuracy(torch.argmax(predictions, dim = 1), label)\n",
    "            epoch_loss += loss.item()\n",
    "            epoch_acc += acc.item()\n",
    "            epoch_macro += macro_f1.item()\n",
    "    return epoch_loss / len(iterator), epoch_acc / len(iterator), epoch_macro / len(iterator)\n",
    "\n",
    "\n",
    "def epoch_time(start_time, end_time):\n",
    "    elapsed_time = end_time - start_time\n",
    "    elapsed_mins = int(elapsed_time / 60)\n",
    "    elapsed_secs = int(elapsed_time - (elapsed_mins * 60))\n",
    "    return elapsed_mins, elapsed_secs\n",
    "\n",
    "def save_plots(train_losses, val_losses, train_f1, val_f1, train_accs, val_accs,test_accs,test_f1s):\n",
    "    \"\"\"Plot\n",
    "\n",
    "        Plot two figures: loss vs. epoch and accuracy vs. epoch\n",
    "    \"\"\"\n",
    "    n = len(train_losses)\n",
    "    xs = np.arange(1,n+1,1)\n",
    "    xs = xs.astype(int)\n",
    "\n",
    "    # plot train and val losses\n",
    "    fig, ax = plt.subplots()\n",
    "    ax.plot(xs, train_losses, '--', linewidth=2, label='train loss')\n",
    "    ax.plot(xs, val_losses, '-', linewidth=2, label='validation loss')\n",
    "    #ax.set_xlim(0, 10)\n",
    "    ax.set_xlabel(\"Epoch\")\n",
    "    ax.set_ylabel(\"Loss\")\n",
    "    ax.legend(loc='upper right')\n",
    "    plt.savefig('../Project2/figs/'+savingname+'_Loss.png')\n",
    "\n",
    "    # plot train and val f1-score\n",
    "    #plt.clf()\n",
    "    fig, ax = plt.subplots()\n",
    "    ax.plot(xs, train_f1, '--', linewidth=2, label='train')\n",
    "    ax.plot(xs, val_f1, '-', linewidth=2, label='validation')\n",
    "    ax.plot(xs, test_f1s, '-', linewidth=2, label='test')\n",
    "    \n",
    "    ax.set_xlabel(\"Epoch\")\n",
    "    ax.set_ylabel(\"Macro-avg F1\")\n",
    "    ax.legend(loc='lower right')\n",
    "    plt.savefig('../Project2/figs/'+savingname+'_Macro-avgF1.png')\n",
    "    \n",
    "    # plot train and val accuracy\n",
    "    #plt.clf()\n",
    "    fig, ax = plt.subplots()\n",
    "    ax.plot(xs, train_accs, '--', linewidth=2, label='train')\n",
    "    ax.plot(xs, val_accs, '-', linewidth=2, label='validation')\n",
    "    ax.plot(xs, test_accs, '-', linewidth=2, label='test')\n",
    "    #ax.set_xlim(0, 10)\n",
    "    ax.set_xlabel(\"Epoch\")\n",
    "    ax.set_ylabel(\"Accuracy\")\n",
    "    ax.legend(loc='lower right')\n",
    "    plt.savefig('../Project2/figs/'+savingname+'_ACC.png')\n",
    "\n",
    "def bihashtagGraph(_wdf0,topic,_i):\n",
    "    terms_bigram = [list(bigrams(tweet)) for tweet in _wdf0['hashtags']]\n",
    "    d=[x for x in terms_bigram if x!=[]]\n",
    "    lst=[]\n",
    "    for each in d:\n",
    "        if len(each)==0:\n",
    "            lst.append(each)\n",
    "        else:\n",
    "            [lst.append(x) for x in each]\n",
    "\n",
    "    hadf=pd.DataFrame(lst)\n",
    "\n",
    "    K=nx.from_pandas_edgelist(hadf,0,1)\n",
    "\n",
    "    nx.write_gexf(K,'../Project2/'+topic+'/'+str(_i)+'.gexf')\n",
    "    return hadf,K\n",
    "import random\n",
    "if __name__ == '__main__':\n",
    "       \n",
    "        #topic = 'Ivemectin'\n",
    "        topic='QAnon'\n",
    "        \n",
    "        #if (name1 != 'badbots') | (name2 != 'badhumans'):\n",
    "       \n",
    "        #name1='badbots'\n",
    "        #name2='badhumans'#'badhumans'#'goodbots'\n",
    "        smaller_sample = 500\n",
    "        batch_size = 16\n",
    "        #savingname='degreeRank'+name1+'VS'+name2+'_bi_TEXT_weighted_directed_batch'+str(batch_size)+'violinIndex'+'TokenLength>30'+'Token=4000'\n",
    "        device = torch.device(\"cuda:0\" if torch.cuda.is_available() else \"cpu\")\n",
    "        print('Training')\n",
    "        print('Device:',device)\n",
    "        which_time = 0\n",
    "        N_EPOCHS = 10\n",
    "        HIDDEN_DIM = 300 \n",
    "        OUTPUT_DIM = 3\n",
    "        N_LAYERS = 2\n",
    "        BIDIRECTIONAL = True\n",
    "        DROPOUT = 0.5 \n",
    "\n",
    "        #ndf=gf=df=pd.read_csv('../Project2/'+topic+'/Ivermectin_selected_noNA.csv')\n",
    "        #modularity=pd.read_csv('../Project2/'+topic+'/'+topic+'_networkx.csv')\n",
    "        #modularity=modularity.rename(columns={'Id':'user_screen_name'})\n",
    "        #nodes1=modularity[modularity['modularity_class']==38]['user_screen_name'].drop_duplicates().tolist()#Ivermectin misinformation/Biden\n",
    "        #nodes2=modularity[modularity['modularity_class']==241]['user_screen_name'].drop_duplicates().tolist()#Ivermectin writer and mainstream news\n",
    "        \n",
    "        \n",
    "        ndf=gf=df=pd.read_csv('../Project3/gf.csv')\n",
    "        ndf.dropna(subset=['retweeted_status_screen_name'],inplace=True)\n",
    "\n",
    "        \n",
    "        modularity=pd.read_csv('../Project2/'+topic+'/'+topic+'_networkx.csv')\n",
    "        modularity=modularity.rename(columns={'Id':'user_screen_name'})\n",
    "        nodes1=modularity[modularity['modularity_class']==3]['user_screen_name'].drop_duplicates().tolist()#pro-QAnon\n",
    "        nodes2=modularity[modularity['modularity_class']==0]['user_screen_name'].drop_duplicates().tolist()#anti-QAnon\n",
    "        \n",
    "        \n",
    "        \n",
    "        \n",
    "        \n",
    "        num=min(500,len(nodes1),len(nodes2))\n",
    "        \n",
    "        #lst1=random.sample(nodes1, min(500,len(nodes1),len(nodes2)))\n",
    "        #lst2=random.sample(nodes2, min(500,len(nodes1),len(nodes2)))\n",
    "        \n",
    "        #label1='Ivermectin'\n",
    "        #label2='Mainstream'\n",
    "        \n",
    "        label1='Democratic'\n",
    "        label2='Republican'\n",
    "\n",
    "        ndf.loc[ndf['user_screen_name'].isin(nodes1),'labels']=label1\n",
    "        ndf.loc[ndf['user_screen_name'].isin(nodes2),'labels']=label2\n",
    "        \n",
    "        ndf1=ndf[ndf['labels']==label1].drop_duplicates(subset=['user_screen_name']).sample(num)\n",
    "        ndf2=ndf[ndf['labels']==label2].drop_duplicates(subset=['user_screen_name']).sample(num)\n",
    "        \n",
    "        kdf=pd.concat([ndf1,ndf2])\n",
    "        \n",
    "\n",
    "        np.random.seed(42)\n",
    "        msk = np.random.rand(len(kdf)) < 0.8\n",
    "        df_train = kdf[msk]\n",
    "        df_left =  kdf[~msk]\n",
    "        msk = np.random.rand(len(df_left)) < 0.5\n",
    "        df_valid = df_left[msk]\n",
    "        df_test = df_left[~msk]\n"
   ]
  },
  {
   "cell_type": "code",
   "execution_count": 5,
   "metadata": {},
   "outputs": [
    {
     "data": {
      "text/plain": [
       "500"
      ]
     },
     "execution_count": 5,
     "metadata": {},
     "output_type": "execute_result"
    }
   ],
   "source": [
    "num"
   ]
  },
  {
   "cell_type": "code",
   "execution_count": 6,
   "metadata": {},
   "outputs": [],
   "source": [
    "from fastnode2vec import Graph, Node2Vec\n",
    "def fast_node2vec(_df):\n",
    "    '''\n",
    "    _df:retweetdf,mentiondf\n",
    "    _save:saving folder path\n",
    "    _file:csv name, e.g., vaccine, mask\n",
    "    saving_name: RT or MT\n",
    "    '''\n",
    "    \n",
    "    _tuples=_df.to_records(index=False)\n",
    "\n",
    "    _lst=list(_tuples)\n",
    "\n",
    "    _graph = Graph(_lst, directed=False, weighted=False)\n",
    "\n",
    "    _n2v = Node2Vec(_graph, dim=300, walk_length=100, context=10, p=2.0, q=0.5, workers=-1)\n",
    "    \n",
    "    _n2v.train(epochs=300)\n",
    "\n",
    "    \n",
    "    return _n2v\n",
    "\n"
   ]
  },
  {
   "cell_type": "code",
   "execution_count": 7,
   "metadata": {
    "scrolled": true
   },
   "outputs": [
    {
     "name": "stderr",
     "output_type": "stream",
     "text": [
      "Reading graph: 100%|██████████| 316835/316835 [00:01<00:00, 204256.68it/s]\n",
      "Training:   0%|          | 33610/42400200 [00:00<03:55, 180037.12it/s]"
     ]
    }
   ],
   "source": [
    "rdf=ndf[['user_screen_name','retweeted_status_screen_name']]\n",
    "model=fast_node2vec(rdf)"
   ]
  },
  {
   "cell_type": "code",
   "execution_count": 8,
   "metadata": {},
   "outputs": [
    {
     "name": "stderr",
     "output_type": "stream",
     "text": [
      "Training: 100%|██████████| 42400200/42400200 [04:58<00:00, 141969.85it/s]\n"
     ]
    }
   ],
   "source": [
    "model.wv.save('../Project2/'+topic+'/RT_n2v.wv')\n",
    "model= KeyedVectors.load('../Project2/'+topic+'/RT_n2v.wv')"
   ]
  },
  {
   "cell_type": "code",
   "execution_count": 9,
   "metadata": {},
   "outputs": [],
   "source": [
    "RT_train=retrieveRTMT(df_train,model) # out1[0]training RT, out1[1] training MT\n",
    "RT_val=retrieveRTMT(df_valid,model) # valid RT MT\n",
    "RT_test=retrieveRTMT(df_test,model)"
   ]
  },
  {
   "cell_type": "code",
   "execution_count": 10,
   "metadata": {},
   "outputs": [],
   "source": [
    "import seaborn as sns\n",
    "from sklearn.manifold import TSNE\n",
    "import time\n",
    "import matplotlib.pyplot as plt\n",
    "%matplotlib inline\n",
    "\n",
    "def export_tSNE(_data,save):\n",
    "    _array = _data.iloc[:,0:300].to_numpy()\n",
    "    time_start = time.time()\n",
    "    tsne = TSNE(n_components=2, verbose=1, random_state=42)\n",
    "    z = tsne.fit_transform(_array) \n",
    "    print('t-SNE done! Time elapsed: {} seconds'.format(time.time()-time_start))\n",
    "\n",
    "    df = pd.DataFrame()\n",
    "    df[\"y\"] = _data.labels\n",
    "    df[\"comp-1\"] = z[:,0]\n",
    "    df[\"comp-2\"] = z[:,1]\n",
    "\n",
    "    sns.scatterplot(x=\"comp-1\", y=\"comp-2\", hue=df.y.tolist(),data=df).set(title=\"RT network tSNE projection\") \n",
    "    plt.savefig('../Project2/'+topic+'/figs/tSNE_RT_'+save+'_.pdf')\n",
    "    "
   ]
  },
  {
   "cell_type": "code",
   "execution_count": 11,
   "metadata": {},
   "outputs": [],
   "source": [
    "RT=retrieveRTMT(kdf,model)"
   ]
  },
  {
   "cell_type": "code",
   "execution_count": 12,
   "metadata": {},
   "outputs": [],
   "source": [
    "df=pd.DataFrame(RT)\n",
    "df['labels']=kdf['labels'].tolist()"
   ]
  },
  {
   "cell_type": "code",
   "execution_count": 13,
   "metadata": {},
   "outputs": [
    {
     "name": "stdout",
     "output_type": "stream",
     "text": [
      "[t-SNE] Computing 91 nearest neighbors...\n",
      "[t-SNE] Indexed 1000 samples in 0.000s...\n",
      "[t-SNE] Computed neighbors for 1000 samples in 0.050s...\n",
      "[t-SNE] Computed conditional probabilities for sample 1000 / 1000\n",
      "[t-SNE] Mean sigma: 0.006930\n",
      "[t-SNE] KL divergence after 250 iterations with early exaggeration: 87.336212\n",
      "[t-SNE] KL divergence after 1000 iterations: 2.887958\n",
      "t-SNE done! Time elapsed: 7.038856029510498 seconds\n"
     ]
    },
    {
     "data": {
      "image/png": "[encoded data removed]",
      "text/plain": [
       "<Figure size 432x288 with 1 Axes>"
      ]
     },
     "metadata": {
      "needs_background": "light"
     },
     "output_type": "display_data"
    }
   ],
   "source": [
    "export_tSNE(df,str(num)+topic)"
   ]
  },
  {
   "cell_type": "code",
   "execution_count": 14,
   "metadata": {
    "scrolled": true
   },
   "outputs": [],
   "source": [
    "df.loc[df['labels']==label1, 'labels']=1\n",
    "\n",
    "df.loc[df['labels']==label2, 'labels']=0\n",
    "df['labels']=df['labels'].apply('int32')"
   ]
  },
  {
   "cell_type": "code",
   "execution_count": 15,
   "metadata": {},
   "outputs": [],
   "source": [
    "def split_data(_df):\n",
    "    np.random.seed(42)\n",
    "    msk = np.random.rand(len(_df)) < 0.8\n",
    "    df_train = _df[msk]\n",
    "    df_left = _df[~msk]\n",
    "    np.random.seed(42)\n",
    "    msk = np.random.rand(len(df_left)) < 0.5\n",
    "    df_valid = df_left[msk]\n",
    "    df_test = df_left[~msk]\n",
    "\n",
    "    print(df.shape)\n",
    "    print('train:',df_train.shape)\n",
    "    print('validation',df_valid.shape)\n",
    "    print('test',df_test.shape)\n",
    "\n",
    "    # Get the lists of sentences and their labels.\n",
    "    \n",
    "    training_data = torch.from_numpy(df_train.iloc[:,0:300].to_numpy())\n",
    "    validation_data = torch.from_numpy(df_valid.iloc[:,0:300].to_numpy())\n",
    "    testing_data = torch.from_numpy(df_test.iloc[:,0:300].to_numpy())\n",
    "    \n",
    "    labels_train = torch.tensor(df_train['labels'].to_numpy())\n",
    "    labels_valid = torch.tensor(df_valid['labels'].to_numpy())\n",
    "    labels_test = torch.tensor(df_test['labels'].to_numpy()) \n",
    "    \n",
    "    \n",
    "    _train_dataset = TensorDataset(training_data, labels_train)\n",
    "    _val_dataset =   TensorDataset(validation_data, labels_valid)\n",
    "    _test_dataset =  TensorDataset(testing_data, labels_test)\n",
    "    \n",
    "    \n",
    "    return _train_dataset, _val_dataset, _test_dataset #df_train, df_valid, df_test, labels_train, labels_valid, labels_test"
   ]
  },
  {
   "cell_type": "code",
   "execution_count": 16,
   "metadata": {},
   "outputs": [
    {
     "name": "stdout",
     "output_type": "stream",
     "text": [
      "(1000, 301)\n",
      "train: (801, 301)\n",
      "validation (102, 301)\n",
      "test (97, 301)\n"
     ]
    }
   ],
   "source": [
    "train_dataset, val_dataset, test_dataset= split_data(df)"
   ]
  },
  {
   "cell_type": "markdown",
   "metadata": {},
   "source": [
    "# Domain2Vec training"
   ]
  },
  {
   "cell_type": "code",
   "execution_count": 17,
   "metadata": {},
   "outputs": [],
   "source": [
    "import wandb\n",
    "class NetworkMLP(nn.Module):\n",
    "    def __init__(self):\n",
    "        super(NetworkMLP, self).__init__() \n",
    "        self.fc1 = nn.Linear(300, 150)\n",
    "            \n",
    "    def forward(self, X):\n",
    "        z1 = self.fc1(X)\n",
    "        return z1 \n",
    "\n",
    "class JointModel(nn.Module):\n",
    "    \n",
    "    def __init__(self,hidden_dim, output_dim, n_layers, bidirectional, dropout):\n",
    "        super().__init__()\n",
    "        self.model_net = NetworkMLP()\n",
    "        self.fc1 = nn.Linear(150*1, 600)\n",
    "        self.fc2 = nn.Linear(600, output_dim) #original\n",
    "        self.dropout = nn.Dropout(dropout)\n",
    "\n",
    "\n",
    "    def forward(self, _net): \n",
    "        prediction= self.model_net(_net)\n",
    "        \n",
    "        #prediction_twtNews = self.model_twt(x_tNews)\n",
    "       \n",
    "        #concat_pred = torch.cat((prediction_RT, prediction_MT), 1)\n",
    "        output = self.fc1(prediction)\n",
    "        \n",
    "        output = self.dropout(output) # add dropout\n",
    "        output = self.fc2(F.relu(output)) #original\n",
    "        #output = self.dropout(output)#add dropout\n",
    "        #output = self.fc3(F.relu(output))\n",
    "        return output\n",
    "        \n",
    "def count_parameters(model):\n",
    "    return sum(p.numel() for p in model.parameters() if p.requires_grad)\n",
    "\n",
    "def binary_accuracy(preds, y):\n",
    "    \"\"\"\n",
    "    Returns accuracy per batch, i.e. if you get 8/10 right, this returns 0.8, NOT 8\n",
    "    \"\"\"\n",
    "\n",
    "    #round predictions to the closest integer\n",
    "    #rounded_preds = torch.round(torch.sigmoid(preds))\n",
    "    #rounded_preds = torch.round(preds)\n",
    "    correct = (preds == y).float() #convert into float for division \n",
    "    acc = correct.sum() / len(correct)\n",
    "    \n",
    "    from sklearn.metrics import f1_score\n",
    "    macro_f1 = f1_score(y.to(\"cpu\"), preds.to(\"cpu\"), average='macro')\n",
    "    #print(\"macro_f1\", macro_f1)\n",
    "\n",
    "    return acc, macro_f1\n",
    "\n",
    "\n",
    "def train(model, iterator, optimizer, criterion):\n",
    "    \n",
    "    epoch_loss = 0\n",
    "    epoch_acc = 0\n",
    "    epoch_macro = 0\n",
    "    model.train()\n",
    "    for step, batch in enumerate(iterator):    \n",
    "    #for batch in iterator:\n",
    "        #print(\"batch\", batch)\n",
    "        # `batch` contains three pytorch tensors:\n",
    "        #   [0]: input ids \n",
    "        #   [1]: attention masks\n",
    "        #   [2]: labels \n",
    "        #   b_input_ids = batch[0].to(device)\n",
    "        #   b_input_mask = batch[1].to(device)\n",
    "        #   b_labels = batch[2].to(device)\n",
    "\n",
    "        optimizer.zero_grad()\n",
    "        \n",
    "        net = batch[0].to(device)\n",
    "        #netMT = batch[1].to(device)\n",
    "        #feature1=batch[0]\n",
    "        #print('feature1:',feature1)\n",
    "        #feature2=batch[1]\n",
    "        #cosine_score=emb_similarity(feature1, feature2)\n",
    "        #cosine_score_view=cosine_score.view(cosine_score.size()[0],1)\n",
    "\n",
    "        #twt = batch[0].to(device)\n",
    "        #news= batch[1].to(device)\n",
    "\n",
    "        #print('text.size:',twt.size())\n",
    "        #print('news.size:',news.size())\n",
    "\n",
    "        #cosine_similarity=cosine_similarity.to(device)\n",
    "        label = batch[1].to(device)\n",
    "\n",
    "        #print(\"label\", label, type(label),label.size()) #torch.Size([32])\n",
    "        #label = label.unsqueeze(1)\n",
    "        #print(\"label\", label, type(label),label.size())\n",
    "        #predictions = model(batch.text).squeeze(1)\n",
    "        #predictions = model(text)\n",
    "        predictions = model(net)#,cosine_similarity)\n",
    "\n",
    "        #cosine_score_view=cosine_score.view(cosine_score.size()[0],1)\n",
    "\n",
    "\n",
    "\n",
    "        #print('cosine_similarity.size:',cosine_score.size())\n",
    "        #predictions=torch.cat((predictions,cosine_score_view), dim = 1)\n",
    "        #print('predictions.size:',predictions.size())\n",
    "        label = label.type(torch.LongTensor)\n",
    "\n",
    "        \n",
    "        loss = criterion(predictions, label)\n",
    "    \n",
    "        acc, macro_f1 = binary_accuracy(torch.argmax(predictions, dim = 1), label)\n",
    "\n",
    "        loss.backward()\n",
    "        optimizer.step()\n",
    "        \n",
    "        epoch_loss += loss.item()\n",
    "        epoch_acc += acc.item()\n",
    "        epoch_macro += macro_f1.item()\n",
    "    return epoch_loss / len(iterator), epoch_acc / len(iterator), epoch_macro / len(iterator)\n",
    "\n",
    "def evaluate(model, iterator, criterion):\n",
    "    epoch_loss = 0\n",
    "    epoch_acc = 0\n",
    "    epoch_macro = 0\n",
    "    model.eval()\n",
    "    \n",
    "    with torch.no_grad():\n",
    "    \n",
    "        #for batch in iterator:\n",
    "        for step, batch in enumerate(iterator):    \n",
    "            #des = batch[0].to(device)\n",
    "            #loc = batch[1].to(device)\n",
    "            net = batch[0].to(device)\n",
    "            #netMT = batch[1].to(device)\n",
    "            #twt = batch[0].to(device)\n",
    "            #news= batch[1].to(devifce)\n",
    "            label = batch[1].to(device)\n",
    "            #predictions = model(batch.text).squeeze(1)\n",
    "            label = label.type(torch.LongTensor)\n",
    "            predictions = model(net)\n",
    "            #loss = criterion(predictions, batch.label)\n",
    "            loss = criterion(predictions, label)\n",
    "            #acc = binary_accuracy(predictions, batch.label)\n",
    "            acc, macro_f1 = binary_accuracy(torch.argmax(predictions, dim = 1), label)\n",
    "            epoch_loss += loss.item()\n",
    "            epoch_acc += acc.item()\n",
    "            epoch_macro += macro_f1.item()\n",
    "    return epoch_loss / len(iterator), epoch_acc / len(iterator), epoch_macro / len(iterator)\n",
    "\n",
    "\n",
    "def epoch_time(start_time, end_time):\n",
    "    elapsed_time = end_time - start_time\n",
    "    elapsed_mins = int(elapsed_time / 60)\n",
    "    elapsed_secs = int(elapsed_time - (elapsed_mins * 60))\n",
    "    return elapsed_mins, elapsed_secs\n",
    "\n",
    "def save_plots(train_losses, val_losses, train_f1, val_f1, train_accs, val_accs,test_accs,test_f1s):\n",
    "    \"\"\"Plot\n",
    "\n",
    "        Plot two figures: loss vs. epoch and accuracy vs. epoch\n",
    "    \"\"\"\n",
    "    n = len(train_losses)\n",
    "    xs = np.arange(1,n+1,1)\n",
    "    xs = xs.astype(int)\n",
    "\n",
    "    # plot train and val losses\n",
    "    fig, ax = plt.subplots()\n",
    "    ax.plot(xs, train_losses, '--', linewidth=2, label='train loss')\n",
    "    ax.plot(xs, val_losses, '-', linewidth=2, label='validation loss')\n",
    "    #ax.set_xlim(0, 10)\n",
    "    ax.set_xlabel(\"Epoch\")\n",
    "    ax.set_ylabel(\"Loss\")\n",
    "    ax.legend(loc='upper right')\n",
    "    plt.savefig('../Project2/'+topic+'/figs/'+savingname+'_Loss.png')\n",
    "\n",
    "    # plot train and val f1-score\n",
    "    #plt.clf()\n",
    "    fig, ax = plt.subplots()\n",
    "    ax.plot(xs, train_f1, '--', linewidth=2, label='train')\n",
    "    ax.plot(xs, val_f1, '-', linewidth=2, label='validation')\n",
    "    ax.plot(xs, test_f1s, '-', linewidth=2, label='test')\n",
    "    \n",
    "    ax.set_xlabel(\"Epoch\")\n",
    "    ax.set_ylabel(\"Macro-avg F1\")\n",
    "    ax.legend(loc='lower right')\n",
    "    plt.savefig('../Project2/'+topic+'/figs/'+savingname+'_Macro-avgF1.png')\n",
    "    \n",
    "    # plot train and val accuracy\n",
    "    #plt.clf()\n",
    "    fig, ax = plt.subplots()\n",
    "    ax.plot(xs, train_accs, '--', linewidth=2, label='train')\n",
    "    ax.plot(xs, val_accs, '-', linewidth=2, label='validation')\n",
    "    ax.plot(xs, test_accs, '-', linewidth=2, label='test')\n",
    "    #ax.set_xlim(0, 10)\n",
    "    ax.set_xlabel(\"Epoch\")\n",
    "    ax.set_ylabel(\"Accuracy\")\n",
    "    ax.legend(loc='lower right')\n",
    "    plt.savefig('../Project2/'+topic+'/figs/'+savingname+'_ACC.png')\n"
   ]
  },
  {
   "cell_type": "code",
   "execution_count": 18,
   "metadata": {},
   "outputs": [
    {
     "name": "stdout",
     "output_type": "stream",
     "text": [
      "Training\n",
      "Device: cpu\n"
     ]
    }
   ],
   "source": [
    "smaller_sample = 500\n",
    "batch_size = 16\n",
    "savingname=topic+'_RT_500:500'\n",
    "device = torch.device(\"cuda:0\" if torch.cuda.is_available() else \"cpu\")\n",
    "print('Training')\n",
    "print('Device:',device)\n",
    "which_time = 0\n",
    "N_EPOCHS = 10\n",
    "HIDDEN_DIM = 300 \n",
    "OUTPUT_DIM = 3\n",
    "N_LAYERS = 2\n",
    "BIDIRECTIONAL = True\n",
    "DROPOUT = 0.5 "
   ]
  },
  {
   "cell_type": "code",
   "execution_count": 19,
   "metadata": {
    "scrolled": true
   },
   "outputs": [
    {
     "name": "stderr",
     "output_type": "stream",
     "text": [
      "Failed to detect the name of this notebook, you can set it manually with the WANDB_NOTEBOOK_NAME environment variable to enable code saving.\n",
      "\u001b[34m\u001b[1mwandb\u001b[0m: Currently logged in as: \u001b[33mlawrencexu\u001b[0m (use `wandb login --relogin` to force relogin)\n",
      "\u001b[34m\u001b[1mwandb\u001b[0m: wandb version 0.12.13 is available!  To upgrade, please run:\n",
      "\u001b[34m\u001b[1mwandb\u001b[0m:  $ pip install wandb --upgrade\n"
     ]
    },
    {
     "data": {
      "text/html": [
       "\n",
       "                    Syncing run <strong><a href=\"https://wandb.ai/lawrencexu/Project2_joint/runs/n00u0ixa\" target=\"_blank\">QAnon_RT_500:500</a></strong> to <a href=\"https://wandb.ai/lawrencexu/Project2_joint\" target=\"_blank\">Weights & Biases</a> (<a href=\"https://docs.wandb.com/integrations/jupyter.html\" target=\"_blank\">docs</a>).<br/>\n",
       "\n",
       "                "
      ],
      "text/plain": [
       "<IPython.core.display.HTML object>"
      ]
     },
     "metadata": {},
     "output_type": "display_data"
    },
    {
     "name": "stderr",
     "output_type": "stream",
     "text": [
      "\r",
      "  0%|          | 0/10 [00:00<?, ?it/s]"
     ]
    },
    {
     "name": "stdout",
     "output_type": "stream",
     "text": [
      "0\n"
     ]
    },
    {
     "name": "stderr",
     "output_type": "stream",
     "text": [
      "\r",
      " 10%|█         | 1/10 [00:00<00:02,  4.20it/s]"
     ]
    },
    {
     "name": "stdout",
     "output_type": "stream",
     "text": [
      "best model saved in epoch : 1\n",
      "Epoch: 01 | Epoch Time: 0m 0s\n",
      "\tTrain Loss: 0.806 | Train Acc: 49.51 | Train macro-avg-f1: 41.14%\n",
      "\t Val. Loss: 0.697 |  Val. Acc: 50.00 |  Val. macro-avg-f1: 47.62%\n",
      "\t Aver. ACC: 50.00%\n",
      "1\n"
     ]
    },
    {
     "name": "stderr",
     "output_type": "stream",
     "text": [
      "\r",
      " 20%|██        | 2/10 [00:00<00:01,  4.15it/s]"
     ]
    },
    {
     "name": "stdout",
     "output_type": "stream",
     "text": [
      "Epoch: 02 | Epoch Time: 0m 0s\n",
      "\tTrain Loss: 0.703 | Train Acc: 49.63 | Train macro-avg-f1: 42.15%\n",
      "\t Val. Loss: 0.703 |  Val. Acc: 50.00 |  Val. macro-avg-f1: 47.62%\n",
      "\t Aver. ACC: 50.00%\n",
      "2\n"
     ]
    },
    {
     "name": "stderr",
     "output_type": "stream",
     "text": [
      " 40%|████      | 4/10 [00:00<00:01,  4.52it/s]"
     ]
    },
    {
     "name": "stdout",
     "output_type": "stream",
     "text": [
      "Epoch: 03 | Epoch Time: 0m 0s\n",
      "\tTrain Loss: 0.708 | Train Acc: 47.67 | Train macro-avg-f1: 41.31%\n",
      "\t Val. Loss: 0.697 |  Val. Acc: 50.00 |  Val. macro-avg-f1: 47.62%\n",
      "\t Aver. ACC: 50.00%\n",
      "3\n",
      "Epoch: 04 | Epoch Time: 0m 0s\n",
      "\tTrain Loss: 0.705 | Train Acc: 48.90 | Train macro-avg-f1: 41.85%\n",
      "\t Val. Loss: 0.699 |  Val. Acc: 50.00 |  Val. macro-avg-f1: 47.62%\n",
      "\t Aver. ACC: 50.00%\n",
      "4\n"
     ]
    },
    {
     "name": "stderr",
     "output_type": "stream",
     "text": [
      "\r",
      " 50%|█████     | 5/10 [00:01<00:01,  4.52it/s]"
     ]
    },
    {
     "name": "stdout",
     "output_type": "stream",
     "text": [
      "best model saved in epoch : 5\n",
      "Epoch: 05 | Epoch Time: 0m 0s\n",
      "\tTrain Loss: 0.701 | Train Acc: 48.04 | Train macro-avg-f1: 41.30%\n",
      "\t Val. Loss: 0.694 |  Val. Acc: 50.00 |  Val. macro-avg-f1: 47.62%\n",
      "\t Aver. ACC: 50.00%\n",
      "5\n"
     ]
    },
    {
     "name": "stderr",
     "output_type": "stream",
     "text": [
      "\r",
      " 60%|██████    | 6/10 [00:01<00:00,  4.45it/s]"
     ]
    },
    {
     "name": "stdout",
     "output_type": "stream",
     "text": [
      "Epoch: 06 | Epoch Time: 0m 0s\n",
      "\tTrain Loss: 0.703 | Train Acc: 47.67 | Train macro-avg-f1: 44.11%\n",
      "\t Val. Loss: 0.695 |  Val. Acc: 50.00 |  Val. macro-avg-f1: 47.62%\n",
      "\t Aver. ACC: 50.00%\n",
      "6\n"
     ]
    },
    {
     "name": "stderr",
     "output_type": "stream",
     "text": [
      "\r",
      " 70%|███████   | 7/10 [00:01<00:00,  4.38it/s]"
     ]
    },
    {
     "name": "stdout",
     "output_type": "stream",
     "text": [
      "Epoch: 07 | Epoch Time: 0m 0s\n",
      "\tTrain Loss: 0.698 | Train Acc: 52.08 | Train macro-avg-f1: 42.48%\n",
      "\t Val. Loss: 0.704 |  Val. Acc: 50.00 |  Val. macro-avg-f1: 47.62%\n",
      "\t Aver. ACC: 50.00%\n",
      "7\n"
     ]
    },
    {
     "name": "stderr",
     "output_type": "stream",
     "text": [
      "\r",
      " 80%|████████  | 8/10 [00:01<00:00,  4.35it/s]"
     ]
    },
    {
     "name": "stdout",
     "output_type": "stream",
     "text": [
      "Epoch: 08 | Epoch Time: 0m 0s\n",
      "\tTrain Loss: 0.700 | Train Acc: 49.75 | Train macro-avg-f1: 40.47%\n",
      "\t Val. Loss: 0.700 |  Val. Acc: 50.00 |  Val. macro-avg-f1: 47.62%\n",
      "\t Aver. ACC: 50.00%\n",
      "8\n"
     ]
    },
    {
     "name": "stderr",
     "output_type": "stream",
     "text": [
      "\r",
      " 90%|█████████ | 9/10 [00:02<00:00,  4.24it/s]"
     ]
    },
    {
     "name": "stdout",
     "output_type": "stream",
     "text": [
      "Epoch: 09 | Epoch Time: 0m 0s\n",
      "\tTrain Loss: 0.697 | Train Acc: 51.72 | Train macro-avg-f1: 45.01%\n",
      "\t Val. Loss: 0.697 |  Val. Acc: 50.00 |  Val. macro-avg-f1: 47.62%\n",
      "\t Aver. ACC: 50.00%\n",
      "9\n"
     ]
    },
    {
     "name": "stderr",
     "output_type": "stream",
     "text": [
      "100%|██████████| 10/10 [00:02<00:00,  4.35it/s]"
     ]
    },
    {
     "name": "stdout",
     "output_type": "stream",
     "text": [
      "Epoch: 10 | Epoch Time: 0m 0s\n",
      "\tTrain Loss: 0.703 | Train Acc: 48.16 | Train macro-avg-f1: 41.54%\n",
      "\t Val. Loss: 0.695 |  Val. Acc: 50.00 |  Val. macro-avg-f1: 47.62%\n",
      "\t Aver. ACC: 50.00%\n",
      "Test Loss: 0.694 | Test Acc: 55.36 | Test macro-avg-f1: 49.52%\n",
      "\t Aver. TEST ACC: 55.36%\n",
      "Test Loss: 0.717 | Test Acc: 44.64 | Test macro-avg-f1: 44.44%\n",
      "\t Aver. TEST ACC: 50.00%\n",
      "Test Loss: 0.690 | Test Acc: 55.36 | Test macro-avg-f1: 49.52%\n",
      "\t Aver. TEST ACC: 51.79%\n",
      "Test Loss: 0.689 | Test Acc: 55.36 | Test macro-avg-f1: 49.52%\n",
      "\t Aver. TEST ACC: 52.68%\n",
      "Test Loss: 0.692 | Test Acc: 55.36 | Test macro-avg-f1: 49.52%\n",
      "\t Aver. TEST ACC: 53.21%\n",
      "Test Loss: 0.691 | Test Acc: 55.36 | Test macro-avg-f1: 49.52%\n",
      "\t Aver. TEST ACC: 53.57%\n",
      "Test Loss: 0.689 | Test Acc: 55.36 | Test macro-avg-f1: 49.52%\n",
      "\t Aver. TEST ACC: 53.83%\n",
      "Test Loss: 0.688 | Test Acc: 55.36 | Test macro-avg-f1: 49.52%\n",
      "\t Aver. TEST ACC: 54.02%\n",
      "Test Loss: 0.688 | Test Acc: 55.36 | Test macro-avg-f1: 49.52%\n",
      "\t Aver. TEST ACC: 54.17%\n",
      "Test Loss: 0.691 | Test Acc: 55.36 | Test macro-avg-f1: 49.52%\n",
      "\t Aver. TEST ACC: 54.29%\n"
     ]
    },
    {
     "name": "stderr",
     "output_type": "stream",
     "text": [
      "\n"
     ]
    },
    {
     "data": {
      "text/html": [
       "<br/>Waiting for W&B process to finish, PID 89765... <strong style=\"color:green\">(success).</strong>"
      ],
      "text/plain": [
       "<IPython.core.display.HTML object>"
      ]
     },
     "metadata": {},
     "output_type": "display_data"
    },
    {
     "data": {
      "application/vnd.jupyter.widget-view+json": {
       "model_id": "",
       "version_major": 2,
       "version_minor": 0
      },
      "text/plain": [
       "VBox(children=(Label(value=' 0.00MB of 0.00MB uploaded (0.00MB deduped)\\r'), FloatProgress(value=1.0, max=1.0)…"
      ]
     },
     "metadata": {},
     "output_type": "display_data"
    },
    {
     "data": {
      "text/html": [
       "<style>\n",
       "    table.wandb td:nth-child(1) { padding: 0 10px; text-align: right }\n",
       "    .wandb-row { display: flex; flex-direction: row; flex-wrap: wrap; width: 100% }\n",
       "    .wandb-col { display: flex; flex-direction: column; flex-basis: 100%; flex: 1; padding: 10px; }\n",
       "    </style>\n",
       "<div class=\"wandb-row\"><div class=\"wandb-col\">\n",
       "<h3>Run history:</h3><br/><table class=\"wandb\"><tr><td>Average TEST Acc</td><td>█▁▃▅▅▆▆▆▆▇</td></tr><tr><td>Average Val. Acc</td><td>▁▁▁▁▁▁▁▁▁▁</td></tr><tr><td>Max TEST Acc</td><td>▁▁▁▁▁▁▁▁▁▁</td></tr><tr><td>Max Val Acc</td><td>▁▁▁▁▁▁▁▁▁▁</td></tr><tr><td>Test accuracy</td><td>█▁████████</td></tr><tr><td>Test loss</td><td>▂█▂▁▂▂▁▁▁▂</td></tr><tr><td>Test macro-avg-f1</td><td>█▁▃▅▅▆▆▆▆▇</td></tr><tr><td>Val. accuracy</td><td>▁▁▁▁▁▁▁▁▁▁</td></tr><tr><td>Val. loss</td><td>▃▇▃▅▁▁█▅▃▁</td></tr><tr><td>Val. macro-avg-f1</td><td>▁▁▁▁▁▁▁▁▁▁</td></tr></table><br/></div><div class=\"wandb-col\">\n",
       "<h3>Run summary:</h3><br/><table class=\"wandb\"><tr><td>Average TEST Acc</td><td>0.54286</td></tr><tr><td>Average Val. Acc</td><td>0.5</td></tr><tr><td>Max TEST Acc</td><td>0.55357</td></tr><tr><td>Max Val Acc</td><td>0.5</td></tr><tr><td>Test accuracy</td><td>0.55357</td></tr><tr><td>Test loss</td><td>0.69134</td></tr><tr><td>Test macro-avg-f1</td><td>0.49016</td></tr><tr><td>Val. accuracy</td><td>0.5</td></tr><tr><td>Val. loss</td><td>0.69492</td></tr><tr><td>Val. macro-avg-f1</td><td>0.47619</td></tr></table>\n",
       "</div></div>\n",
       "Synced 5 W&B file(s), 0 media file(s), 0 artifact file(s) and 0 other file(s)\n",
       "<br/>Synced <strong style=\"color:#cdcd00\">QAnon_RT_500:500</strong>: <a href=\"https://wandb.ai/lawrencexu/Project2_joint/runs/n00u0ixa\" target=\"_blank\">https://wandb.ai/lawrencexu/Project2_joint/runs/n00u0ixa</a><br/>\n",
       "Find logs at: <code>./wandb/run-20220408_143908-n00u0ixa/logs</code><br/>\n"
      ],
      "text/plain": [
       "<IPython.core.display.HTML object>"
      ]
     },
     "metadata": {},
     "output_type": "display_data"
    },
    {
     "data": {
      "image/png": "[encoded data removed]",
      "text/plain": [
       "<Figure size 432x288 with 1 Axes>"
      ]
     },
     "metadata": {
      "needs_background": "light"
     },
     "output_type": "display_data"
    },
    {
     "data": {
      "image/png": "[encoded data removed]",
      "text/plain": [
       "<Figure size 432x288 with 1 Axes>"
      ]
     },
     "metadata": {
      "needs_background": "light"
     },
     "output_type": "display_data"
    },
    {
     "data": {
      "image/png": "[encoded data removed]",
      "text/plain": [
       "<Figure size 432x288 with 1 Axes>"
      ]
     },
     "metadata": {
      "needs_background": "light"
     },
     "output_type": "display_data"
    }
   ],
   "source": [
    "train_dataloader = DataLoader(\n",
    "                    train_dataset,  # The training samples.\n",
    "                    sampler = RandomSampler(train_dataset), # Select batches randomly\n",
    "                    batch_size = batch_size # Trains with this batch size.\n",
    "                )\n",
    "validation_dataloader = DataLoader(\n",
    "            val_dataset, # The validation samples.\n",
    "            sampler = SequentialSampler(val_dataset), # Pull out batches sequentially.\n",
    "            batch_size = batch_size # Evaluate with this batch size.\n",
    "        )\n",
    "test_dataloader = DataLoader(\n",
    "            test_dataset, # The validation samples.\n",
    "            sampler = SequentialSampler(test_dataset), # Pull out batches sequentially.\n",
    "            batch_size = batch_size # Evaluate with this batch size.\n",
    "        ) \n",
    "\n",
    "model = JointModel(HIDDEN_DIM, OUTPUT_DIM, N_LAYERS, BIDIRECTIONAL,DROPOUT)\n",
    "optimizer = optim.Adam(model.parameters())\n",
    "criterion = nn.CrossEntropyLoss()\n",
    "criterion = criterion.to(device) \n",
    "wandb.login()\n",
    "wandb.init(project='Project2_joint',name=savingname)#wandb.init(project='Project2_joint',name=savingname+'_'+str(eachtime))\n",
    "wandb.config = {\n",
    "        \"epochs\": N_EPOCHS,\n",
    "        \"batch_size\": batch_size\n",
    "        }\n",
    "\n",
    "resume_training = False\n",
    "if resume_training == True:\n",
    "    eachtime = 0\n",
    "    which_time = 6\n",
    "    path= '../Project2/pt/'+savingname+'_'+str(eachtime)+'/'\n",
    "    checkpoint = torch.load(path+str(which_time)+'.pt')\n",
    "    model.load_state_dict(checkpoint)\n",
    "model = model.to(device)\n",
    "\n",
    "\n",
    "\n",
    "\n",
    "\n",
    "pt=makefolder('../Project2/pt/'+savingname+'/')#pt=makefolder('../Project2/pt/'+savingname+'_'+str(eachtime)+'/')\n",
    "pt_best=makefolder('../Project2/pt_best/'+savingname+'/')#pt_best=makefolder('../Project2/pt_best/'+savingname+'_'+str(eachtime)+'/')\n",
    "\n",
    "\n",
    "best_valid_loss = float('inf')\n",
    "per_epoch_train_loss = []\n",
    "per_epoch_val_loss = []\n",
    "per_epoch_train_f1 = []\n",
    "per_epoch_val_f1 = []\n",
    "per_epoch_train_acc = []\n",
    "per_epoch_val_acc = []\n",
    "import time\n",
    "t1=time.time()\n",
    "for epoch in tqdm(range(which_time, N_EPOCHS)):\n",
    "    print(epoch)\n",
    "\n",
    "    start_time = time.time()\n",
    "\n",
    "    train_loss, train_acc, train_f1 = train(model, train_dataloader, optimizer, criterion)\n",
    "    valid_loss, valid_acc, valid_f1 = evaluate(model, validation_dataloader, criterion)\n",
    "\n",
    "    end_time = time.time()\n",
    "\n",
    "    epoch_mins, epoch_secs = epoch_time(start_time, end_time)\n",
    "    per_epoch_train_loss.append(train_loss)\n",
    "    per_epoch_val_loss.append(valid_loss)\n",
    "    per_epoch_train_f1.append(train_f1)\n",
    "    per_epoch_val_f1.append(valid_f1)\n",
    "    per_epoch_train_acc.append(train_acc)\n",
    "    per_epoch_val_acc.append(valid_acc)\n",
    "    Val_aver_acc=mean(per_epoch_val_acc)\n",
    "    Val_aver_f1=mean(per_epoch_val_f1)\n",
    "\n",
    "\n",
    "    if valid_loss <= best_valid_loss:\n",
    "        best_valid_loss = valid_loss\n",
    "        print(\"best model saved in epoch :\", epoch+1 )\n",
    "        torch.save(model.state_dict(), pt_best +str(epoch+1)+'.pt')\n",
    "    torch.save(model.state_dict(), pt +'/'+str(epoch+1)+'.pt')\n",
    "\n",
    "    print(f'Epoch: {epoch+1:02} | Epoch Time: {epoch_mins}m {epoch_secs}s')\n",
    "    print(f'\\tTrain Loss: {train_loss:.3f} | Train Acc: {train_acc*100:.2f} | Train macro-avg-f1: {train_f1*100:.2f}%')\n",
    "    print(f'\\t Val. Loss: {valid_loss:.3f} |  Val. Acc: {valid_acc*100:.2f} |  Val. macro-avg-f1: {valid_f1*100:.2f}%')\n",
    "    print(f'\\t Aver. ACC: {Val_aver_acc*100:.2f}%')\n",
    "    wandb.log({'Max Val Acc':max(per_epoch_val_acc),'Average Val. Acc': Val_aver_acc,'Val. accuracy': valid_acc, 'Val. loss': valid_loss,'Val. macro-avg-f1':valid_f1})\n",
    "\n",
    "\n",
    "Test_Acc = []\n",
    "Test_f1=[]\n",
    "for epoch in range(N_EPOCHS):\n",
    "    model.load_state_dict(torch.load(pt+str(epoch+1)+'.pt')) \n",
    "    test_loss, test_acc, test_f1 = evaluate(model, test_dataloader, criterion)\n",
    "\n",
    "    Test_Acc.append(test_acc)\n",
    "    Test_f1.append(test_f1)\n",
    "    Test_aver_acc=mean(Test_Acc)\n",
    "    Test_test_f1=mean(Test_f1)\n",
    "    t2=time.time()\n",
    "    \n",
    "    print(f'Test Loss: {test_loss:.3f} | Test Acc: {test_acc*100:.2f} | Test macro-avg-f1: {test_f1*100:.2f}%')\n",
    "    print(f'\\t Aver. TEST ACC: {Test_aver_acc*100:.2f}%')\n",
    "    wandb.log({'Max TEST Acc':max(Test_Acc),'Average TEST Acc': Test_aver_acc,'Test accuracy': test_acc, 'Test loss': test_loss,'Test macro-avg-f1':Test_test_f1})\n",
    "_time=t2-t1\n",
    "wandb.finish()\n",
    "save_plots(per_epoch_train_loss, per_epoch_val_loss, per_epoch_train_f1, \n",
    "per_epoch_val_f1, per_epoch_train_acc, per_epoch_val_acc,Test_Acc,Test_f1)\n"
   ]
  },
  {
   "cell_type": "code",
   "execution_count": 20,
   "metadata": {},
   "outputs": [],
   "source": [
    "re=pd.DataFrame([[Val_aver_acc,Test_aver_acc, Val_aver_f1,Test_test_f1,_time]],columns=['Avg. Val. Acc.','Avg. Test.Acc','Avg. Val. macro-avg-f1','Avg. Test. macro-avg-f1','Time'])\n",
    "re.to_csv('../Project2/'+topic+'/RT_classification_results.csv',index=None)"
   ]
  },
  {
   "cell_type": "code",
   "execution_count": 21,
   "metadata": {},
   "outputs": [
    {
     "data": {
      "text/html": [
       "<div>\n",
       "<style scoped>\n",
       "    .dataframe tbody tr th:only-of-type {\n",
       "        vertical-align: middle;\n",
       "    }\n",
       "\n",
       "    .dataframe tbody tr th {\n",
       "        vertical-align: top;\n",
       "    }\n",
       "\n",
       "    .dataframe thead th {\n",
       "        text-align: right;\n",
       "    }\n",
       "</style>\n",
       "<table border=\"1\" class=\"dataframe\">\n",
       "  <thead>\n",
       "    <tr style=\"text-align: right;\">\n",
       "      <th></th>\n",
       "      <th>Avg. Val. Acc.</th>\n",
       "      <th>Avg. Test.Acc</th>\n",
       "      <th>Avg. Val. macro-avg-f1</th>\n",
       "      <th>Avg. Test. macro-avg-f1</th>\n",
       "      <th>Time</th>\n",
       "    </tr>\n",
       "  </thead>\n",
       "  <tbody>\n",
       "    <tr>\n",
       "      <th>0</th>\n",
       "      <td>0.5</td>\n",
       "      <td>0.542857</td>\n",
       "      <td>0.47619</td>\n",
       "      <td>0.490159</td>\n",
       "      <td>2.478457</td>\n",
       "    </tr>\n",
       "  </tbody>\n",
       "</table>\n",
       "</div>"
      ],
      "text/plain": [
       "   Avg. Val. Acc.  Avg. Test.Acc  Avg. Val. macro-avg-f1  \\\n",
       "0             0.5       0.542857                 0.47619   \n",
       "\n",
       "   Avg. Test. macro-avg-f1      Time  \n",
       "0                 0.490159  2.478457  "
      ]
     },
     "execution_count": 21,
     "metadata": {},
     "output_type": "execute_result"
    }
   ],
   "source": [
    "re"
   ]
  },
  {
   "cell_type": "code",
   "execution_count": null,
   "metadata": {},
   "outputs": [],
   "source": []
  },
  {
   "cell_type": "code",
   "execution_count": null,
   "metadata": {},
   "outputs": [],
   "source": []
  },
  {
   "cell_type": "code",
   "execution_count": null,
   "metadata": {},
   "outputs": [],
   "source": []
  },
  {
   "cell_type": "code",
   "execution_count": null,
   "metadata": {},
   "outputs": [],
   "source": []
  },
  {
   "cell_type": "code",
   "execution_count": null,
   "metadata": {},
   "outputs": [],
   "source": []
  },
  {
   "cell_type": "code",
   "execution_count": null,
   "metadata": {},
   "outputs": [],
   "source": []
  },
  {
   "cell_type": "code",
   "execution_count": null,
   "metadata": {},
   "outputs": [],
   "source": []
  },
  {
   "cell_type": "code",
   "execution_count": null,
   "metadata": {},
   "outputs": [],
   "source": []
  },
  {
   "cell_type": "markdown",
   "metadata": {},
   "source": [
    "# check domain label"
   ]
  },
  {
   "cell_type": "code",
   "execution_count": 40,
   "metadata": {},
   "outputs": [],
   "source": [
    "biden_co_occur_df=pd.read_csv('../Project2/biden/biden_co_occur.csv')\n",
    "nodes1=pd.read_csv('../Project2/domain/data.csv')['Domain'].tolist()\n",
    "nodes2=pd.read_csv('../Project2/domain/cre.csv')['domain'].tolist()"
   ]
  },
  {
   "cell_type": "code",
   "execution_count": 42,
   "metadata": {},
   "outputs": [],
   "source": [
    "biden_co_occur_df.loc[biden_co_occur_df['Id'].isin(nodes1),'flag']='non-credible'"
   ]
  },
  {
   "cell_type": "code",
   "execution_count": 43,
   "metadata": {},
   "outputs": [],
   "source": [
    "biden_co_occur_df.loc[biden_co_occur_df['Id'].isin(nodes2),'flag']='credible'"
   ]
  },
  {
   "cell_type": "code",
   "execution_count": 49,
   "metadata": {},
   "outputs": [
    {
     "data": {
      "text/plain": [
       "flag\n",
       "credible        208\n",
       "non-credible      1\n",
       "dtype: int64"
      ]
     },
     "execution_count": 49,
     "metadata": {},
     "output_type": "execute_result"
    }
   ],
   "source": [
    "biden_co_occur_df[biden_co_occur_df['modularity_class']==0].groupby('flag').size()"
   ]
  },
  {
   "cell_type": "code",
   "execution_count": 58,
   "metadata": {},
   "outputs": [
    {
     "data": {
      "text/plain": [
       "1.0096618357487923"
      ]
     },
     "execution_count": 58,
     "metadata": {},
     "output_type": "execute_result"
    }
   ],
   "source": [
    "(208+1)/(208-1)"
   ]
  },
  {
   "cell_type": "code",
   "execution_count": null,
   "metadata": {},
   "outputs": [],
   "source": []
  },
  {
   "cell_type": "code",
   "execution_count": 55,
   "metadata": {},
   "outputs": [
    {
     "data": {
      "text/plain": [
       "Id                    0\n",
       "Label                 0\n",
       "timeset             499\n",
       "modularity_class      0\n",
       "degree                0\n",
       "flag                290\n",
       "dtype: int64"
      ]
     },
     "execution_count": 55,
     "metadata": {},
     "output_type": "execute_result"
    }
   ],
   "source": [
    "import numpy as np\n",
    "biden_co_occur_df[biden_co_occur_df['modularity_class']==0].isna().sum()"
   ]
  },
  {
   "cell_type": "code",
   "execution_count": 50,
   "metadata": {},
   "outputs": [
    {
     "data": {
      "text/plain": [
       "flag\n",
       "credible        64\n",
       "non-credible    46\n",
       "dtype: int64"
      ]
     },
     "execution_count": 50,
     "metadata": {},
     "output_type": "execute_result"
    }
   ],
   "source": [
    "biden_co_occur_df[biden_co_occur_df['modularity_class']==1].groupby('flag').size()"
   ]
  },
  {
   "cell_type": "code",
   "execution_count": 57,
   "metadata": {},
   "outputs": [
    {
     "name": "stdout",
     "output_type": "stream",
     "text": [
      "282\n"
     ]
    },
    {
     "data": {
      "text/plain": [
       "Id                    0\n",
       "Label                 0\n",
       "timeset             282\n",
       "modularity_class      0\n",
       "degree                0\n",
       "flag                172\n",
       "dtype: int64"
      ]
     },
     "execution_count": 57,
     "metadata": {},
     "output_type": "execute_result"
    }
   ],
   "source": [
    "import numpy as np\n",
    "biden_co_occur_df[biden_co_occur_df['modularity_class']==1].isna().sum()"
   ]
  },
  {
   "cell_type": "code",
   "execution_count": 59,
   "metadata": {},
   "outputs": [
    {
     "data": {
      "text/plain": [
       "6.111111111111111"
      ]
     },
     "execution_count": 59,
     "metadata": {},
     "output_type": "execute_result"
    }
   ],
   "source": [
    "(64+46)/(64-46)"
   ]
  },
  {
   "cell_type": "code",
   "execution_count": null,
   "metadata": {},
   "outputs": [],
   "source": []
  },
  {
   "cell_type": "code",
   "execution_count": null,
   "metadata": {},
   "outputs": [],
   "source": []
  },
  {
   "cell_type": "code",
   "execution_count": null,
   "metadata": {},
   "outputs": [],
   "source": []
  },
  {
   "cell_type": "code",
   "execution_count": null,
   "metadata": {},
   "outputs": [],
   "source": []
  },
  {
   "cell_type": "code",
   "execution_count": 1,
   "metadata": {},
   "outputs": [
    {
     "ename": "NameError",
     "evalue": "name 'pd' is not defined",
     "output_type": "error",
     "traceback": [
      "\u001b[0;31m---------------------------------------------------------------------------\u001b[0m",
      "\u001b[0;31mNameError\u001b[0m                                 Traceback (most recent call last)",
      "\u001b[0;32m<ipython-input-1-9ab26ced1f77>\u001b[0m in \u001b[0;36m<module>\u001b[0;34m()\u001b[0m\n\u001b[0;32m----> 1\u001b[0;31m \u001b[0mdfn1\u001b[0m\u001b[0;34m=\u001b[0m\u001b[0mpd\u001b[0m\u001b[0;34m.\u001b[0m\u001b[0mDataFrame\u001b[0m\u001b[0;34m(\u001b[0m\u001b[0mnodes1\u001b[0m\u001b[0;34m)\u001b[0m\u001b[0;34m\u001b[0m\u001b[0;34m\u001b[0m\u001b[0m\n\u001b[0m\u001b[1;32m      2\u001b[0m \u001b[0mdfn1\u001b[0m\u001b[0;34m.\u001b[0m\u001b[0mcolumns\u001b[0m\u001b[0;34m=\u001b[0m\u001b[0;34m[\u001b[0m\u001b[0;34m'user_screen_name'\u001b[0m\u001b[0;34m]\u001b[0m\u001b[0;34m\u001b[0m\u001b[0;34m\u001b[0m\u001b[0m\n\u001b[1;32m      3\u001b[0m \u001b[0mdfn1\u001b[0m\u001b[0;34m[\u001b[0m\u001b[0;34m'label'\u001b[0m\u001b[0;34m]\u001b[0m\u001b[0;34m=\u001b[0m\u001b[0;34m'pro-QAnon'\u001b[0m\u001b[0;34m\u001b[0m\u001b[0;34m\u001b[0m\u001b[0m\n\u001b[1;32m      4\u001b[0m \u001b[0;34m\u001b[0m\u001b[0m\n\u001b[1;32m      5\u001b[0m \u001b[0mdfn2\u001b[0m\u001b[0;34m=\u001b[0m\u001b[0mpd\u001b[0m\u001b[0;34m.\u001b[0m\u001b[0mDataFrame\u001b[0m\u001b[0;34m(\u001b[0m\u001b[0mnodes2\u001b[0m\u001b[0;34m)\u001b[0m\u001b[0;34m\u001b[0m\u001b[0;34m\u001b[0m\u001b[0m\n",
      "\u001b[0;31mNameError\u001b[0m: name 'pd' is not defined"
     ]
    }
   ],
   "source": [
    "import pandas\n",
    "dfn1=pd.DataFrame(nodes1)\n",
    "dfn1.columns=['user_screen_name']\n",
    "dfn1['label']='pro-QAnon'\n",
    "\n",
    "dfn2=pd.DataFrame(nodes2)\n",
    "dfn2.columns=['user_screen_name']\n",
    "dfn2['label']='anti-QAnon'\n",
    "\n",
    "dfn=pd.concat([dfn1,dfn2])"
   ]
  },
  {
   "cell_type": "code",
   "execution_count": 259,
   "metadata": {},
   "outputs": [],
   "source": [
    "dfn.to_csv('../Project2/domain/user_label.csv',index=None)"
   ]
  },
  {
   "cell_type": "code",
   "execution_count": 273,
   "metadata": {},
   "outputs": [],
   "source": [
    "K=nx.read_gexf('../Project2/domain/domain.gexf')"
   ]
  },
  {
   "cell_type": "code",
   "execution_count": 274,
   "metadata": {},
   "outputs": [],
   "source": [
    "kdf=nx.to_pandas_edgelist(K,'source','target')"
   ]
  },
  {
   "cell_type": "code",
   "execution_count": 284,
   "metadata": {},
   "outputs": [],
   "source": [
    "nodes1=pd.read_csv('../Project2/domain/data.csv')['Domain'].tolist()\n",
    "nodes2=pd.read_csv('../Project2/domain/cre.csv')['domain'].tolist()"
   ]
  },
  {
   "cell_type": "code",
   "execution_count": 285,
   "metadata": {},
   "outputs": [],
   "source": [
    "kdf.loc[kdf['source'].isin(nodes1),'Flag']='pro-QAnon'"
   ]
  },
  {
   "cell_type": "code",
   "execution_count": 286,
   "metadata": {},
   "outputs": [],
   "source": [
    "kdf.loc[kdf['source'].isin(nodes2),'Flag']='anti-QAnon'"
   ]
  },
  {
   "cell_type": "code",
   "execution_count": 287,
   "metadata": {},
   "outputs": [],
   "source": [
    "kdf.to_csv('../Project2/domain/edge_list.csv',index=None)"
   ]
  },
  {
   "cell_type": "code",
   "execution_count": null,
   "metadata": {},
   "outputs": [],
   "source": []
  },
  {
   "cell_type": "code",
   "execution_count": null,
   "metadata": {},
   "outputs": [],
   "source": []
  },
  {
   "cell_type": "code",
   "execution_count": null,
   "metadata": {},
   "outputs": [],
   "source": []
  },
  {
   "cell_type": "code",
   "execution_count": null,
   "metadata": {},
   "outputs": [],
   "source": []
  },
  {
   "cell_type": "code",
   "execution_count": null,
   "metadata": {},
   "outputs": [],
   "source": []
  },
  {
   "cell_type": "code",
   "execution_count": null,
   "metadata": {},
   "outputs": [],
   "source": []
  },
  {
   "cell_type": "code",
   "execution_count": null,
   "metadata": {},
   "outputs": [],
   "source": []
  },
  {
   "cell_type": "code",
   "execution_count": null,
   "metadata": {},
   "outputs": [],
   "source": []
  },
  {
   "cell_type": "code",
   "execution_count": null,
   "metadata": {},
   "outputs": [],
   "source": []
  },
  {
   "cell_type": "code",
   "execution_count": null,
   "metadata": {},
   "outputs": [],
   "source": []
  },
  {
   "cell_type": "code",
   "execution_count": null,
   "metadata": {},
   "outputs": [],
   "source": []
  },
  {
   "cell_type": "code",
   "execution_count": null,
   "metadata": {},
   "outputs": [],
   "source": []
  },
  {
   "cell_type": "code",
   "execution_count": 232,
   "metadata": {},
   "outputs": [],
   "source": [
    "nx.write_gexf(G,'../Project2/domains.gexf')"
   ]
  },
  {
   "cell_type": "code",
   "execution_count": null,
   "metadata": {},
   "outputs": [],
   "source": [
    "\n",
    "_K=nx.from_pandas_edgelist(_hadf,0,1)"
   ]
  },
  {
   "cell_type": "code",
   "execution_count": null,
   "metadata": {},
   "outputs": [],
   "source": []
  },
  {
   "cell_type": "code",
   "execution_count": null,
   "metadata": {},
   "outputs": [],
   "source": []
  },
  {
   "cell_type": "code",
   "execution_count": 163,
   "metadata": {},
   "outputs": [
    {
     "data": {
      "text/plain": [
       "(21,)"
      ]
     },
     "execution_count": 163,
     "metadata": {},
     "output_type": "execute_result"
    }
   ],
   "source": [
    "ndf0['urls'].drop_duplicates().shape"
   ]
  },
  {
   "cell_type": "code",
   "execution_count": 177,
   "metadata": {},
   "outputs": [
    {
     "data": {
      "text/plain": [
       "0.648"
      ]
     },
     "execution_count": 177,
     "metadata": {},
     "output_type": "execute_result"
    }
   ],
   "source": [
    "# accuracy goodbots\n",
    "n1=df2['user_screen_name'].shape[0]\n",
    "temp = mdf[mdf['class'] == 'center users']\n",
    "n2=temp[temp['users'].isin(df2['user_screen_name'])].shape[0]\n",
    "n2/n1"
   ]
  },
  {
   "cell_type": "code",
   "execution_count": 178,
   "metadata": {},
   "outputs": [
    {
     "data": {
      "text/plain": [
       "324"
      ]
     },
     "execution_count": 178,
     "metadata": {},
     "output_type": "execute_result"
    }
   ],
   "source": [
    "n2"
   ]
  },
  {
   "cell_type": "code",
   "execution_count": 179,
   "metadata": {
    "scrolled": true
   },
   "outputs": [
    {
     "data": {
      "text/html": [
       "<div>\n",
       "<style scoped>\n",
       "    .dataframe tbody tr th:only-of-type {\n",
       "        vertical-align: middle;\n",
       "    }\n",
       "\n",
       "    .dataframe tbody tr th {\n",
       "        vertical-align: top;\n",
       "    }\n",
       "\n",
       "    .dataframe thead th {\n",
       "        text-align: right;\n",
       "    }\n",
       "</style>\n",
       "<table border=\"1\" class=\"dataframe\">\n",
       "  <thead>\n",
       "    <tr style=\"text-align: right;\">\n",
       "      <th></th>\n",
       "      <th>urls</th>\n",
       "      <th>user_screen_name</th>\n",
       "      <th>tweet_id</th>\n",
       "      <th>created_at</th>\n",
       "      <th>text</th>\n",
       "      <th>in_reply_to_status_id_str</th>\n",
       "      <th>in_reply_to_user_id_str</th>\n",
       "      <th>in_reply_to_screen_name</th>\n",
       "      <th>latitude</th>\n",
       "      <th>longitude</th>\n",
       "      <th>...</th>\n",
       "      <th>lang</th>\n",
       "      <th>resolved_domain</th>\n",
       "      <th>resolved_url</th>\n",
       "      <th>news</th>\n",
       "      <th>cap.english</th>\n",
       "      <th>display_scores.english.overall</th>\n",
       "      <th>modularity_class</th>\n",
       "      <th>indegree</th>\n",
       "      <th>outdegree</th>\n",
       "      <th>degree</th>\n",
       "    </tr>\n",
       "  </thead>\n",
       "  <tbody>\n",
       "    <tr>\n",
       "      <th>0</th>\n",
       "      <td>NaN</td>\n",
       "      <td>leahbirdjohnso2</td>\n",
       "      <td>1230285097896677377</td>\n",
       "      <td>2020-02-20 09:16:39</td>\n",
       "      <td>rt @golfingjohn_: get the popcorn ready! the c...</td>\n",
       "      <td>NaN</td>\n",
       "      <td>NaN</td>\n",
       "      <td>NaN</td>\n",
       "      <td>NaN</td>\n",
       "      <td>NaN</td>\n",
       "      <td>...</td>\n",
       "      <td>en</td>\n",
       "      <td>NaN</td>\n",
       "      <td>NaN</td>\n",
       "      <td>NaN</td>\n",
       "      <td>NaN</td>\n",
       "      <td>NaN</td>\n",
       "      <td>0</td>\n",
       "      <td>0</td>\n",
       "      <td>3</td>\n",
       "      <td>3</td>\n",
       "    </tr>\n",
       "    <tr>\n",
       "      <th>1</th>\n",
       "      <td>NaN</td>\n",
       "      <td>GolfingJohn_</td>\n",
       "      <td>1230287431636848640</td>\n",
       "      <td>2020-02-20 09:25:55</td>\n",
       "      <td>rt @golfingjohn_: get the popcorn ready! the c...</td>\n",
       "      <td>NaN</td>\n",
       "      <td>NaN</td>\n",
       "      <td>NaN</td>\n",
       "      <td>NaN</td>\n",
       "      <td>NaN</td>\n",
       "      <td>...</td>\n",
       "      <td>en</td>\n",
       "      <td>NaN</td>\n",
       "      <td>NaN</td>\n",
       "      <td>NaN</td>\n",
       "      <td>NaN</td>\n",
       "      <td>NaN</td>\n",
       "      <td>0</td>\n",
       "      <td>48</td>\n",
       "      <td>7</td>\n",
       "      <td>55</td>\n",
       "    </tr>\n",
       "    <tr>\n",
       "      <th>2</th>\n",
       "      <td>NaN</td>\n",
       "      <td>SoHappy33</td>\n",
       "      <td>1230288536588496896</td>\n",
       "      <td>2020-02-20 09:30:19</td>\n",
       "      <td>rt @golfingjohn_: get the popcorn ready! the c...</td>\n",
       "      <td>NaN</td>\n",
       "      <td>NaN</td>\n",
       "      <td>NaN</td>\n",
       "      <td>NaN</td>\n",
       "      <td>NaN</td>\n",
       "      <td>...</td>\n",
       "      <td>en</td>\n",
       "      <td>NaN</td>\n",
       "      <td>NaN</td>\n",
       "      <td>NaN</td>\n",
       "      <td>0.787400</td>\n",
       "      <td>1.7</td>\n",
       "      <td>0</td>\n",
       "      <td>0</td>\n",
       "      <td>2</td>\n",
       "      <td>2</td>\n",
       "    </tr>\n",
       "    <tr>\n",
       "      <th>3</th>\n",
       "      <td>NaN</td>\n",
       "      <td>Bigbillshater</td>\n",
       "      <td>1230289861564882944</td>\n",
       "      <td>2020-02-20 09:35:35</td>\n",
       "      <td>rt @1love_america: get the popcorn ready! the ...</td>\n",
       "      <td>NaN</td>\n",
       "      <td>NaN</td>\n",
       "      <td>NaN</td>\n",
       "      <td>NaN</td>\n",
       "      <td>NaN</td>\n",
       "      <td>...</td>\n",
       "      <td>en</td>\n",
       "      <td>NaN</td>\n",
       "      <td>NaN</td>\n",
       "      <td>NaN</td>\n",
       "      <td>NaN</td>\n",
       "      <td>NaN</td>\n",
       "      <td>0</td>\n",
       "      <td>0</td>\n",
       "      <td>5</td>\n",
       "      <td>5</td>\n",
       "    </tr>\n",
       "    <tr>\n",
       "      <th>4</th>\n",
       "      <td>NaN</td>\n",
       "      <td>cinspy6</td>\n",
       "      <td>1230294587605946375</td>\n",
       "      <td>2020-02-20 09:54:22</td>\n",
       "      <td>rt @1love_america: get the popcorn ready! the ...</td>\n",
       "      <td>NaN</td>\n",
       "      <td>NaN</td>\n",
       "      <td>NaN</td>\n",
       "      <td>NaN</td>\n",
       "      <td>NaN</td>\n",
       "      <td>...</td>\n",
       "      <td>en</td>\n",
       "      <td>NaN</td>\n",
       "      <td>NaN</td>\n",
       "      <td>NaN</td>\n",
       "      <td>NaN</td>\n",
       "      <td>NaN</td>\n",
       "      <td>0</td>\n",
       "      <td>0</td>\n",
       "      <td>2</td>\n",
       "      <td>2</td>\n",
       "    </tr>\n",
       "    <tr>\n",
       "      <th>...</th>\n",
       "      <td>...</td>\n",
       "      <td>...</td>\n",
       "      <td>...</td>\n",
       "      <td>...</td>\n",
       "      <td>...</td>\n",
       "      <td>...</td>\n",
       "      <td>...</td>\n",
       "      <td>...</td>\n",
       "      <td>...</td>\n",
       "      <td>...</td>\n",
       "      <td>...</td>\n",
       "      <td>...</td>\n",
       "      <td>...</td>\n",
       "      <td>...</td>\n",
       "      <td>...</td>\n",
       "      <td>...</td>\n",
       "      <td>...</td>\n",
       "      <td>...</td>\n",
       "      <td>...</td>\n",
       "      <td>...</td>\n",
       "      <td>...</td>\n",
       "    </tr>\n",
       "    <tr>\n",
       "      <th>316830</th>\n",
       "      <td>https://youtu.be/v2naoIVtEHc'</td>\n",
       "      <td>scampbell123451</td>\n",
       "      <td>1263121624057995265</td>\n",
       "      <td>2020-05-20 23:57:17</td>\n",
       "      <td>rt @scampbell123451: recent videos: deep state...</td>\n",
       "      <td>NaN</td>\n",
       "      <td>NaN</td>\n",
       "      <td>NaN</td>\n",
       "      <td>NaN</td>\n",
       "      <td>NaN</td>\n",
       "      <td>...</td>\n",
       "      <td>en</td>\n",
       "      <td>youtube.com</td>\n",
       "      <td>https://www.youtube.com/watch?v=v2naoIVtEHc%27...</td>\n",
       "      <td>NaN</td>\n",
       "      <td>0.779582</td>\n",
       "      <td>1.6</td>\n",
       "      <td>0</td>\n",
       "      <td>9</td>\n",
       "      <td>2</td>\n",
       "      <td>11</td>\n",
       "    </tr>\n",
       "    <tr>\n",
       "      <th>316831</th>\n",
       "      <td>'https://youtu.be/JFxYgPlsLbI'</td>\n",
       "      <td>scampbell123451</td>\n",
       "      <td>1263121624057995265</td>\n",
       "      <td>2020-05-20 23:57:17</td>\n",
       "      <td>rt @scampbell123451: recent videos: deep state...</td>\n",
       "      <td>NaN</td>\n",
       "      <td>NaN</td>\n",
       "      <td>NaN</td>\n",
       "      <td>NaN</td>\n",
       "      <td>NaN</td>\n",
       "      <td>...</td>\n",
       "      <td>en</td>\n",
       "      <td>youtube.com</td>\n",
       "      <td>https://www.youtube.com/watch?v=v2naoIVtEHc%27...</td>\n",
       "      <td>NaN</td>\n",
       "      <td>0.779582</td>\n",
       "      <td>1.6</td>\n",
       "      <td>0</td>\n",
       "      <td>9</td>\n",
       "      <td>2</td>\n",
       "      <td>11</td>\n",
       "    </tr>\n",
       "    <tr>\n",
       "      <th>316832</th>\n",
       "      <td>'https://youtu.be/lAbKoxYVXPI</td>\n",
       "      <td>scampbell123451</td>\n",
       "      <td>1263121624057995265</td>\n",
       "      <td>2020-05-20 23:57:17</td>\n",
       "      <td>rt @scampbell123451: recent videos: deep state...</td>\n",
       "      <td>NaN</td>\n",
       "      <td>NaN</td>\n",
       "      <td>NaN</td>\n",
       "      <td>NaN</td>\n",
       "      <td>NaN</td>\n",
       "      <td>...</td>\n",
       "      <td>en</td>\n",
       "      <td>youtube.com</td>\n",
       "      <td>https://www.youtube.com/watch?v=v2naoIVtEHc%27...</td>\n",
       "      <td>NaN</td>\n",
       "      <td>0.779582</td>\n",
       "      <td>1.6</td>\n",
       "      <td>0</td>\n",
       "      <td>9</td>\n",
       "      <td>2</td>\n",
       "      <td>11</td>\n",
       "    </tr>\n",
       "    <tr>\n",
       "      <th>316833</th>\n",
       "      <td>https://www.bitchute.com/video/HeC0tHZDX7dk/?f...</td>\n",
       "      <td>michae1c1</td>\n",
       "      <td>1288640359220772865</td>\n",
       "      <td>2020-07-30 09:59:38</td>\n",
       "      <td>rt @jjppatriot:  fauci and the deep state big ...</td>\n",
       "      <td>NaN</td>\n",
       "      <td>NaN</td>\n",
       "      <td>NaN</td>\n",
       "      <td>NaN</td>\n",
       "      <td>NaN</td>\n",
       "      <td>...</td>\n",
       "      <td>en</td>\n",
       "      <td>bitchute.com</td>\n",
       "      <td>https://www.bitchute.com/video/HeC0tHZDX7dk/?f...</td>\n",
       "      <td>Reason\\n\\nSelect reason Abhorrent Violence Ani...</td>\n",
       "      <td>NaN</td>\n",
       "      <td>NaN</td>\n",
       "      <td>0</td>\n",
       "      <td>0</td>\n",
       "      <td>2</td>\n",
       "      <td>2</td>\n",
       "    </tr>\n",
       "    <tr>\n",
       "      <th>316834</th>\n",
       "      <td>'https://breaking911.com/breaking-ohio-dept-o...</td>\n",
       "      <td>michae1c1</td>\n",
       "      <td>1288640359220772865</td>\n",
       "      <td>2020-07-30 09:59:38</td>\n",
       "      <td>rt @jjppatriot:  fauci and the deep state big ...</td>\n",
       "      <td>NaN</td>\n",
       "      <td>NaN</td>\n",
       "      <td>NaN</td>\n",
       "      <td>NaN</td>\n",
       "      <td>NaN</td>\n",
       "      <td>...</td>\n",
       "      <td>en</td>\n",
       "      <td>bitchute.com</td>\n",
       "      <td>https://www.bitchute.com/video/HeC0tHZDX7dk/?f...</td>\n",
       "      <td>Reason\\n\\nSelect reason Abhorrent Violence Ani...</td>\n",
       "      <td>NaN</td>\n",
       "      <td>NaN</td>\n",
       "      <td>0</td>\n",
       "      <td>0</td>\n",
       "      <td>2</td>\n",
       "      <td>2</td>\n",
       "    </tr>\n",
       "  </tbody>\n",
       "</table>\n",
       "<p>316835 rows × 40 columns</p>\n",
       "</div>"
      ],
      "text/plain": [
       "                                                     urls user_screen_name  \\\n",
       "0                                                     NaN  leahbirdjohnso2   \n",
       "1                                                     NaN     GolfingJohn_   \n",
       "2                                                     NaN        SoHappy33   \n",
       "3                                                     NaN    Bigbillshater   \n",
       "4                                                     NaN          cinspy6   \n",
       "...                                                   ...              ...   \n",
       "316830                      https://youtu.be/v2naoIVtEHc'  scampbell123451   \n",
       "316831                     'https://youtu.be/JFxYgPlsLbI'  scampbell123451   \n",
       "316832                      'https://youtu.be/lAbKoxYVXPI  scampbell123451   \n",
       "316833  https://www.bitchute.com/video/HeC0tHZDX7dk/?f...        michae1c1   \n",
       "316834   'https://breaking911.com/breaking-ohio-dept-o...        michae1c1   \n",
       "\n",
       "                   tweet_id           created_at  \\\n",
       "0       1230285097896677377  2020-02-20 09:16:39   \n",
       "1       1230287431636848640  2020-02-20 09:25:55   \n",
       "2       1230288536588496896  2020-02-20 09:30:19   \n",
       "3       1230289861564882944  2020-02-20 09:35:35   \n",
       "4       1230294587605946375  2020-02-20 09:54:22   \n",
       "...                     ...                  ...   \n",
       "316830  1263121624057995265  2020-05-20 23:57:17   \n",
       "316831  1263121624057995265  2020-05-20 23:57:17   \n",
       "316832  1263121624057995265  2020-05-20 23:57:17   \n",
       "316833  1288640359220772865  2020-07-30 09:59:38   \n",
       "316834  1288640359220772865  2020-07-30 09:59:38   \n",
       "\n",
       "                                                     text  \\\n",
       "0       rt @golfingjohn_: get the popcorn ready! the c...   \n",
       "1       rt @golfingjohn_: get the popcorn ready! the c...   \n",
       "2       rt @golfingjohn_: get the popcorn ready! the c...   \n",
       "3       rt @1love_america: get the popcorn ready! the ...   \n",
       "4       rt @1love_america: get the popcorn ready! the ...   \n",
       "...                                                   ...   \n",
       "316830  rt @scampbell123451: recent videos: deep state...   \n",
       "316831  rt @scampbell123451: recent videos: deep state...   \n",
       "316832  rt @scampbell123451: recent videos: deep state...   \n",
       "316833  rt @jjppatriot:  fauci and the deep state big ...   \n",
       "316834  rt @jjppatriot:  fauci and the deep state big ...   \n",
       "\n",
       "        in_reply_to_status_id_str  in_reply_to_user_id_str  \\\n",
       "0                             NaN                      NaN   \n",
       "1                             NaN                      NaN   \n",
       "2                             NaN                      NaN   \n",
       "3                             NaN                      NaN   \n",
       "4                             NaN                      NaN   \n",
       "...                           ...                      ...   \n",
       "316830                        NaN                      NaN   \n",
       "316831                        NaN                      NaN   \n",
       "316832                        NaN                      NaN   \n",
       "316833                        NaN                      NaN   \n",
       "316834                        NaN                      NaN   \n",
       "\n",
       "        in_reply_to_screen_name  latitude  longitude  ...  lang  \\\n",
       "0                           NaN       NaN        NaN  ...    en   \n",
       "1                           NaN       NaN        NaN  ...    en   \n",
       "2                           NaN       NaN        NaN  ...    en   \n",
       "3                           NaN       NaN        NaN  ...    en   \n",
       "4                           NaN       NaN        NaN  ...    en   \n",
       "...                         ...       ...        ...  ...   ...   \n",
       "316830                      NaN       NaN        NaN  ...    en   \n",
       "316831                      NaN       NaN        NaN  ...    en   \n",
       "316832                      NaN       NaN        NaN  ...    en   \n",
       "316833                      NaN       NaN        NaN  ...    en   \n",
       "316834                      NaN       NaN        NaN  ...    en   \n",
       "\n",
       "        resolved_domain                                       resolved_url  \\\n",
       "0                   NaN                                                NaN   \n",
       "1                   NaN                                                NaN   \n",
       "2                   NaN                                                NaN   \n",
       "3                   NaN                                                NaN   \n",
       "4                   NaN                                                NaN   \n",
       "...                 ...                                                ...   \n",
       "316830      youtube.com  https://www.youtube.com/watch?v=v2naoIVtEHc%27...   \n",
       "316831      youtube.com  https://www.youtube.com/watch?v=v2naoIVtEHc%27...   \n",
       "316832      youtube.com  https://www.youtube.com/watch?v=v2naoIVtEHc%27...   \n",
       "316833     bitchute.com  https://www.bitchute.com/video/HeC0tHZDX7dk/?f...   \n",
       "316834     bitchute.com  https://www.bitchute.com/video/HeC0tHZDX7dk/?f...   \n",
       "\n",
       "                                                     news cap.english  \\\n",
       "0                                                     NaN         NaN   \n",
       "1                                                     NaN         NaN   \n",
       "2                                                     NaN    0.787400   \n",
       "3                                                     NaN         NaN   \n",
       "4                                                     NaN         NaN   \n",
       "...                                                   ...         ...   \n",
       "316830                                                NaN    0.779582   \n",
       "316831                                                NaN    0.779582   \n",
       "316832                                                NaN    0.779582   \n",
       "316833  Reason\\n\\nSelect reason Abhorrent Violence Ani...         NaN   \n",
       "316834  Reason\\n\\nSelect reason Abhorrent Violence Ani...         NaN   \n",
       "\n",
       "       display_scores.english.overall  modularity_class indegree outdegree  \\\n",
       "0                                 NaN                 0        0         3   \n",
       "1                                 NaN                 0       48         7   \n",
       "2                                 1.7                 0        0         2   \n",
       "3                                 NaN                 0        0         5   \n",
       "4                                 NaN                 0        0         2   \n",
       "...                               ...               ...      ...       ...   \n",
       "316830                            1.6                 0        9         2   \n",
       "316831                            1.6                 0        9         2   \n",
       "316832                            1.6                 0        9         2   \n",
       "316833                            NaN                 0        0         2   \n",
       "316834                            NaN                 0        0         2   \n",
       "\n",
       "        degree  \n",
       "0            3  \n",
       "1           55  \n",
       "2            2  \n",
       "3            5  \n",
       "4            2  \n",
       "...        ...  \n",
       "316830      11  \n",
       "316831      11  \n",
       "316832      11  \n",
       "316833       2  \n",
       "316834       2  \n",
       "\n",
       "[316835 rows x 40 columns]"
      ]
     },
     "execution_count": 179,
     "metadata": {},
     "output_type": "execute_result"
    }
   ],
   "source": [
    "gf"
   ]
  },
  {
   "cell_type": "code",
   "execution_count": null,
   "metadata": {},
   "outputs": [],
   "source": []
  },
  {
   "cell_type": "code",
   "execution_count": null,
   "metadata": {},
   "outputs": [],
   "source": []
  },
  {
   "cell_type": "code",
   "execution_count": null,
   "metadata": {},
   "outputs": [],
   "source": []
  },
  {
   "cell_type": "code",
   "execution_count": null,
   "metadata": {},
   "outputs": [],
   "source": []
  },
  {
   "cell_type": "code",
   "execution_count": null,
   "metadata": {},
   "outputs": [],
   "source": []
  },
  {
   "cell_type": "code",
   "execution_count": 173,
   "metadata": {},
   "outputs": [
    {
     "ename": "KeyboardInterrupt",
     "evalue": "",
     "output_type": "error",
     "traceback": [
      "\u001b[0;31m---------------------------------------------------------------------------\u001b[0m",
      "\u001b[0;31mKeyboardInterrupt\u001b[0m                         Traceback (most recent call last)",
      "\u001b[0;32m<ipython-input-173-a0d5937541b4>\u001b[0m in \u001b[0;36m<module>\u001b[0;34m()\u001b[0m\n\u001b[1;32m     20\u001b[0m             })\n\u001b[1;32m     21\u001b[0m             \u001b[0;31m# 60 seconds sleep\u001b[0m\u001b[0;34m\u001b[0m\u001b[0;34m\u001b[0m\u001b[0;34m\u001b[0m\u001b[0m\n\u001b[0;32m---> 22\u001b[0;31m             \u001b[0mtime\u001b[0m\u001b[0;34m.\u001b[0m\u001b[0msleep\u001b[0m\u001b[0;34m(\u001b[0m\u001b[0;36m60\u001b[0m\u001b[0;34m)\u001b[0m\u001b[0;34m\u001b[0m\u001b[0;34m\u001b[0m\u001b[0m\n\u001b[0m\u001b[1;32m     23\u001b[0m \u001b[0;32mexcept\u001b[0m \u001b[0mException\u001b[0m \u001b[0;32mas\u001b[0m \u001b[0me\u001b[0m\u001b[0;34m:\u001b[0m\u001b[0;34m\u001b[0m\u001b[0;34m\u001b[0m\u001b[0m\n\u001b[1;32m     24\u001b[0m             \u001b[0mlogging\u001b[0m\u001b[0;34m.\u001b[0m\u001b[0merror\u001b[0m\u001b[0;34m(\u001b[0m\u001b[0;34m'Exception raised.'\u001b[0m\u001b[0;34m)\u001b[0m\u001b[0;34m\u001b[0m\u001b[0;34m\u001b[0m\u001b[0m\n",
      "\u001b[0;31mKeyboardInterrupt\u001b[0m: "
     ]
    }
   ],
   "source": [
    "import speedtest\n",
    "import datetime\n",
    "import csv\n",
    "import time\n",
    "import logging\n",
    "try:\n",
    "    s = speedtest.Speedtest()\n",
    "\n",
    "    with open('test.csv', mode='w') as speedcsv:\n",
    "        csv_writer = csv.DictWriter(speedcsv, fieldnames=['time', 'downspeed', 'upspeed'])\n",
    "        csv_writer.writeheader()\n",
    "        while True:\n",
    "            time_now = datetime.datetime.now().strftime(\"%H:%M:%S\")\n",
    "            downspeed = round((round(s.download()) / 1048576), 2)\n",
    "            upspeed = round((round(s.upload()) / 1048576), 2)\n",
    "            csv_writer.writerow({\n",
    "                'time': time_now,\n",
    "                'downspeed': downspeed,\n",
    "                \"upspeed\": upspeed\n",
    "            })\n",
    "            # 60 seconds sleep\n",
    "            time.sleep(60)\n",
    "except Exception as e:\n",
    "            logging.error('Exception raised.')\n",
    "            logging.error(e)"
   ]
  },
  {
   "cell_type": "code",
   "execution_count": 28,
   "metadata": {},
   "outputs": [
    {
     "ename": "TypeError",
     "evalue": "unsupported operand type(s) for &: 'str' and 'str'",
     "output_type": "error",
     "traceback": [
      "\u001b[0;31m---------------------------------------------------------------------------\u001b[0m",
      "\u001b[0;31mTypeError\u001b[0m                                 Traceback (most recent call last)",
      "\u001b[0;32m<ipython-input-28-8a08a399ba52>\u001b[0m in \u001b[0;36m<module>\u001b[0;34m()\u001b[0m\n\u001b[1;32m      1\u001b[0m \u001b[0mtext\u001b[0m\u001b[0;34m=\u001b[0m\u001b[0;34m'http://google&p'\u001b[0m\u001b[0;34m\u001b[0m\u001b[0;34m\u001b[0m\u001b[0m\n\u001b[1;32m      2\u001b[0m \u001b[0;34m\u001b[0m\u001b[0m\n\u001b[0;32m----> 3\u001b[0;31m \u001b[0;34m'google'\u001b[0m \u001b[0;34m&\u001b[0m \u001b[0;34m'amp'\u001b[0m \u001b[0;32min\u001b[0m \u001b[0mtext\u001b[0m\u001b[0;34m\u001b[0m\u001b[0;34m\u001b[0m\u001b[0m\n\u001b[0m",
      "\u001b[0;31mTypeError\u001b[0m: unsupported operand type(s) for &: 'str' and 'str'"
     ]
    }
   ],
   "source": [
    "text='http://google&p'\n",
    "\n",
    "'google' & 'amp' in text"
   ]
  },
  {
   "cell_type": "code",
   "execution_count": null,
   "metadata": {},
   "outputs": [],
   "source": []
  }
 ],
 "metadata": {
  "kernelspec": {
   "display_name": "Python 3",
   "language": "python",
   "name": "python3"
  },
  "language_info": {
   "codemirror_mode": {
    "name": "ipython",
    "version": 3
   },
   "file_extension": ".py",
   "mimetype": "text/x-python",
   "name": "python",
   "nbconvert_exporter": "python",
   "pygments_lexer": "ipython3",
   "version": "3.9.12"
  }
 },
 "nbformat": 4,
 "nbformat_minor": 2
}
